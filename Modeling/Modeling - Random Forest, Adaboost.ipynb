{
 "cells": [
  {
   "cell_type": "code",
   "execution_count": 1,
   "id": "0f2fc8c9",
   "metadata": {},
   "outputs": [],
   "source": [
    "import pandas as pd\n",
    "# import jtplot submodule from jupyterthemes\n",
    "from jupyterthemes import jtplot\n",
    "\n",
    "# currently installed theme will be used to\n",
    "# set plot style if no arguments provided\n",
    "jtplot.style()"
   ]
  },
  {
   "cell_type": "code",
   "execution_count": 2,
   "id": "ac505f96",
   "metadata": {},
   "outputs": [
    {
     "name": "stderr",
     "output_type": "stream",
     "text": [
      "/Users/juliana/opt/anaconda3/envs/imblearn/lib/python3.7/site-packages/sklearn/externals/six.py:31: FutureWarning: The module is deprecated in version 0.21 and will be removed in version 0.23 since we've dropped support for Python 2.7. Please rely on the official version of six (https://pypi.org/project/six/).\n",
      "  \"(https://pypi.org/project/six/).\", FutureWarning)\n",
      "/Users/juliana/opt/anaconda3/envs/imblearn/lib/python3.7/site-packages/sklearn/utils/deprecation.py:144: FutureWarning: The sklearn.neighbors.base module is  deprecated in version 0.22 and will be removed in version 0.24. The corresponding classes / functions should instead be imported from sklearn.neighbors. Anything that cannot be imported from sklearn.neighbors is now part of the private API.\n",
      "  warnings.warn(message, FutureWarning)\n",
      "/Users/juliana/opt/anaconda3/envs/imblearn/lib/python3.7/site-packages/sklearn/externals/joblib/__init__.py:15: FutureWarning: sklearn.externals.joblib is deprecated in 0.21 and will be removed in 0.23. Please import this functionality directly from joblib, which can be installed with: pip install joblib. If this warning is raised when loading pickled models, you may need to re-serialize those models with scikit-learn 0.21+.\n",
      "  warnings.warn(msg, category=FutureWarning)\n"
     ]
    }
   ],
   "source": [
    "import seaborn as sns\n",
    "import matplotlib.pyplot as plt\n",
    "import numpy as np\n",
    "import pandas as pd\n",
    "\n",
    "import janitor as jn\n",
    "from sklearn import (\n",
    "    ensemble,\n",
    "    model_selection,\n",
    "    preprocessing,\n",
    "    tree\n",
    ")\n",
    "from sklearn.preprocessing import StandardScaler\n",
    "from sklearn.metrics import plot_confusion_matrix\n",
    "from sklearn.metrics import (\n",
    "    auc,\n",
    "    confusion_matrix,\n",
    "    roc_auc_score,\n",
    "    roc_curve,\n",
    "    accuracy_score,\n",
    "    precision_score,\n",
    "    average_precision_score,\n",
    "    recall_score,\n",
    "    f1_score,\n",
    "    precision_recall_curve,\n",
    "    cohen_kappa_score,\n",
    "    confusion_matrix,\n",
    "    plot_confusion_matrix,\n",
    "    classification_report\n",
    ")\n",
    "from sklearn.model_selection import (\n",
    "    train_test_split,\n",
    "    StratifiedKFold,\n",
    "    cross_val_score,\n",
    "    cross_val_predict\n",
    ")\n",
    "from yellowbrick.classifier import (\n",
    "    ConfusionMatrix,\n",
    "    ROCAUC\n",
    ")\n",
    "from yellowbrick.model_selection import (\n",
    "    LearningCurve \n",
    ")\n",
    "from imblearn.over_sampling import (\n",
    "    SMOTE, ADASYN\n",
    ")\n",
    "from seaborn import diverging_palette"
   ]
  },
  {
   "cell_type": "code",
   "execution_count": 3,
   "id": "04afdb10",
   "metadata": {},
   "outputs": [],
   "source": [
    "from imblearn.over_sampling import (\n",
    "    SMOTE, ADASYN\n",
    ")\n",
    "import configparser\n",
    "sns.set_style('whitegrid')\n",
    "pd.set_option('display.max_columns', None)\n",
    "pd.set_option('display.max_rows', None)\n",
    "\n",
    "font = {'family' : 'Optima',\n",
    "        'weight' : 'regular',\n",
    "        'size'   : 16}\n",
    "plt.rc('font', **font)\n",
    "plt.rc('xtick', labelsize=15)     # tick labels bigger\n",
    "plt.rc('ytick', labelsize=15)     # tick labels bigger\n",
    "plt.rc('savefig', dpi=300)       # higher res outputs"
   ]
  },
  {
   "cell_type": "markdown",
   "id": "690e90f2",
   "metadata": {},
   "source": [
    "## Import the clean data file"
   ]
  },
  {
   "cell_type": "code",
   "execution_count": 4,
   "id": "8e87e2aa",
   "metadata": {},
   "outputs": [],
   "source": [
    "fraud = pd.read_csv('fraud_clean.csv')\n",
    "label = pd.read_csv('fraud_label.csv')\n",
    "#fraud"
   ]
  },
  {
   "cell_type": "code",
   "execution_count": 5,
   "id": "05bb5568",
   "metadata": {},
   "outputs": [],
   "source": [
    "label = label.drop(columns='Unnamed: 0')\n",
    "#label.value_counts()"
   ]
  },
  {
   "cell_type": "code",
   "execution_count": 6,
   "id": "a0ec13ee",
   "metadata": {},
   "outputs": [
    {
     "data": {
      "text/plain": [
       "Index(['MonthOfAccident', 'WeekOfMonthOfAccident', 'MonthClaimed',\n",
       "       'WeekOfMonthClaimed', 'AgeOfPolicyHolder', 'RepNumber', 'Deductible',\n",
       "       'DriverRating', 'PoliceReportFiled', 'WitnessPresent', 'Year',\n",
       "       'DayOfWeekOfAccident', 'Make', 'AccidentArea', 'DayOfWeekClaimed',\n",
       "       'Sex', 'MaritalStatus', 'Fault', 'PolicyType', 'VehicleCategory',\n",
       "       'VehiclePriceRange', 'Days_Policy_Accident', 'Days_Policy_Claim',\n",
       "       'PastNumberOfClaims', 'AgeOfVehicle', 'AgeRangeOfPolicyHolder',\n",
       "       'AgentType', 'NumberOfSuppliments', 'AddressChange_Claim',\n",
       "       'NumberOfCars', 'BasePolicy'],\n",
       "      dtype='object')"
      ]
     },
     "execution_count": 6,
     "metadata": {},
     "output_type": "execute_result"
    }
   ],
   "source": [
    "fraud = fraud.drop(columns='Unnamed: 0')\n",
    "fraud.columns"
   ]
  },
  {
   "cell_type": "code",
   "execution_count": 7,
   "id": "7288d016",
   "metadata": {},
   "outputs": [
    {
     "name": "stdout",
     "output_type": "stream",
     "text": [
      "<class 'pandas.core.frame.DataFrame'>\n",
      "RangeIndex: 10699 entries, 0 to 10698\n",
      "Data columns (total 31 columns):\n",
      " #   Column                  Non-Null Count  Dtype  \n",
      "---  ------                  --------------  -----  \n",
      " 0   MonthOfAccident         10699 non-null  float64\n",
      " 1   WeekOfMonthOfAccident   10699 non-null  float64\n",
      " 2   MonthClaimed            10699 non-null  float64\n",
      " 3   WeekOfMonthClaimed      10699 non-null  float64\n",
      " 4   AgeOfPolicyHolder       10699 non-null  float64\n",
      " 5   RepNumber               10699 non-null  float64\n",
      " 6   Deductible              10699 non-null  float64\n",
      " 7   DriverRating            10699 non-null  float64\n",
      " 8   PoliceReportFiled       10699 non-null  float64\n",
      " 9   WitnessPresent          10699 non-null  float64\n",
      " 10  Year                    10699 non-null  float64\n",
      " 11  DayOfWeekOfAccident     10699 non-null  float64\n",
      " 12  Make                    10699 non-null  float64\n",
      " 13  AccidentArea            10699 non-null  float64\n",
      " 14  DayOfWeekClaimed        10699 non-null  float64\n",
      " 15  Sex                     10699 non-null  float64\n",
      " 16  MaritalStatus           10699 non-null  float64\n",
      " 17  Fault                   10699 non-null  float64\n",
      " 18  PolicyType              10699 non-null  float64\n",
      " 19  VehicleCategory         10699 non-null  float64\n",
      " 20  VehiclePriceRange       10699 non-null  float64\n",
      " 21  Days_Policy_Accident    10699 non-null  float64\n",
      " 22  Days_Policy_Claim       10699 non-null  float64\n",
      " 23  PastNumberOfClaims      10699 non-null  float64\n",
      " 24  AgeOfVehicle            10699 non-null  float64\n",
      " 25  AgeRangeOfPolicyHolder  10699 non-null  float64\n",
      " 26  AgentType               10699 non-null  float64\n",
      " 27  NumberOfSuppliments     10699 non-null  float64\n",
      " 28  AddressChange_Claim     10699 non-null  float64\n",
      " 29  NumberOfCars            10699 non-null  float64\n",
      " 30  BasePolicy              10699 non-null  float64\n",
      "dtypes: float64(31)\n",
      "memory usage: 2.5 MB\n"
     ]
    }
   ],
   "source": [
    "fraud.info()"
   ]
  },
  {
   "cell_type": "markdown",
   "id": "b24f42f9",
   "metadata": {},
   "source": [
    "## Modeling Preparation"
   ]
  },
  {
   "cell_type": "markdown",
   "id": "cb7f145d",
   "metadata": {},
   "source": [
    "### Train test split"
   ]
  },
  {
   "cell_type": "code",
   "execution_count": 8,
   "id": "7975e907",
   "metadata": {},
   "outputs": [
    {
     "name": "stdout",
     "output_type": "stream",
     "text": [
      "7489\n",
      "3210\n",
      "7489\n",
      "3210\n"
     ]
    }
   ],
   "source": [
    "X = fraud\n",
    "y = label\n",
    "X_train, X_val_test, y_train, y_val_test = model_selection.train_test_split(\n",
    "    X, y, test_size=0.3, random_state=0)\n",
    "print(len(X_train))\n",
    "print(len(X_val_test))\n",
    "print(len(y_train))\n",
    "print(len(y_val_test))"
   ]
  },
  {
   "cell_type": "markdown",
   "id": "9c6074f6",
   "metadata": {},
   "source": [
    "### Test validation split"
   ]
  },
  {
   "cell_type": "code",
   "execution_count": 9,
   "id": "18793118",
   "metadata": {},
   "outputs": [
    {
     "name": "stdout",
     "output_type": "stream",
     "text": [
      "1605\n",
      "1605\n",
      "1605\n",
      "1605\n"
     ]
    }
   ],
   "source": [
    "# test set will not be used for the model, will test use it at the end\n",
    "# validation test \n",
    "X_val, X_test, y_val, y_test = model_selection.train_test_split(\n",
    "    X_val_test, y_val_test, test_size=0.5, random_state=0)\n",
    "print(len(X_val))\n",
    "print(len(X_test))\n",
    "print(len(y_val))\n",
    "print(len(y_test))"
   ]
  },
  {
   "cell_type": "markdown",
   "id": "7536a6a5",
   "metadata": {},
   "source": [
    "## Evaluation Metrics"
   ]
  },
  {
   "cell_type": "markdown",
   "id": "c7e7fe07",
   "metadata": {},
   "source": [
    "### Classficiation Score"
   ]
  },
  {
   "cell_type": "code",
   "execution_count": 10,
   "id": "fe996e70",
   "metadata": {},
   "outputs": [],
   "source": [
    "def clf_score(clf, X_train, y_train, X_val, y_val, train=True):\n",
    "    if train:\n",
    "        print(\"Train Result:\\n\")\n",
    "        print(\"accuracy score: {0:.4f}\\n\".format(accuracy_score(y_train, clf.predict(X_train))))\n",
    "        print(\"Classification Report: \\n {}\\n\".format(classification_report(y_train, clf.predict(X_train))))\n",
    "        print(\"Confusion Matrix: \\n {}\\n\".format(confusion_matrix(y_train, clf.predict(X_train))))\n",
    "\n",
    "        res = cross_val_score(clf, X_train, y_train, cv=10, scoring='accuracy')\n",
    "        print(\"Average Accuracy: \\t {0:.4f}\".format(np.mean(res)))\n",
    "        print(\"Accuracy SD: \\t\\t {0:.4f}\".format(np.std(res)))\n",
    "\n",
    "    elif train == False:\n",
    "        print(\"Validation Result:\\n\")\n",
    "        print(\"accuracy score: {0:.4f}\\n\".format(accuracy_score(y_val, clf.predict(X_val))))\n",
    "        \n",
    "        precision, recall, _ = precision_recall_curve(y_val, clf.predict(X_val))\n",
    "        average_precision = average_precision_score(y_val, clf.predict(X_val))\n",
    "        plot_pr_curve(precision, recall, average_precision)\n",
    "        \n",
    "        fpr, tpr, _ = roc_curve(y_val, clf.predict(X_val))\n",
    "        roc_auc = roc_auc_score(y_val, clf.predict(X_val))\n",
    "        print(\"roc auc score: {}\\n\".format(roc_auc))\n",
    "        plot_roc_curve(fpr, tpr, roc_auc)\n",
    "        \n",
    "        print(\"Classification Report: \\n {}\\n\".format(classification_report(y_val, clf.predict(X_val))))\n",
    "        print(\"Confusion Matrix: \\n {}\\n\".format(confusion_matrix(y_val, clf.predict(X_val))))\n",
    "        plot_confusion_matrix(clf,  X_val, clf.predict(X_val))\n",
    "        print(\"End of validation Result\\n\")"
   ]
  },
  {
   "cell_type": "markdown",
   "id": "8b416eea",
   "metadata": {},
   "source": [
    "### Classification Metrics"
   ]
  },
  {
   "cell_type": "code",
   "execution_count": 11,
   "id": "56303cec",
   "metadata": {},
   "outputs": [],
   "source": [
    "def evaluation_metrics(y_actual, y_pred):\n",
    "            \n",
    "        precision, recall, _ = precision_recall_curve(y_actual, y_pred)\n",
    "        average_precision = average_precision_score(y_actual, y_pred)\n",
    "        plot_pr_curve(precision, recall, average_precision)\n",
    "        \n",
    "        fpr, tpr, _ = roc_curve(y_actual, y_pred)\n",
    "        roc_auc = roc_auc_score(y_actual, y_pred)\n",
    "        print(\"roc auc score: {}\\n\".format(roc_auc))\n",
    "        plot_roc_curve(fpr, tpr, roc_auc)\n",
    "        \n",
    "        print(\"Classification Report: \\n {}\\n\".format(classification_report(y_actual, y_pred)))\n",
    "        print(\"Confusion Matrix: \\n {}\\n\".format(confusion_matrix(y_actual, y_pred)))"
   ]
  },
  {
   "cell_type": "markdown",
   "id": "50fd7853",
   "metadata": {},
   "source": [
    "### ROC Curve"
   ]
  },
  {
   "cell_type": "code",
   "execution_count": 12,
   "id": "00314c57",
   "metadata": {},
   "outputs": [],
   "source": [
    "def plot_roc_curve(fpr, tpr, roc_auc):\n",
    "    plt.title('Receiver Operating Characteristic')\n",
    "    plt.plot(fpr, tpr, 'b', label = 'AUC = %0.2f' % roc_auc)\n",
    "    plt.legend(loc = 'lower right')\n",
    "    plt.plot([0, 1], [0, 1],'r--')\n",
    "    plt.xlim([0, 1])\n",
    "    plt.ylim([0, 1])\n",
    "    plt.ylabel('True Positive Rate')\n",
    "    plt.xlabel('False Positive Rate')\n",
    "    plt.show()"
   ]
  },
  {
   "cell_type": "markdown",
   "id": "e4e8d1eb",
   "metadata": {},
   "source": [
    "### PR Curve"
   ]
  },
  {
   "cell_type": "code",
   "execution_count": 13,
   "id": "dd050274",
   "metadata": {},
   "outputs": [],
   "source": [
    "def plot_pr_curve(precision, recall, average_precision):\n",
    "    plt.step(recall, precision, color='b', alpha=0.2, where='post')\n",
    "    plt.fill_between(recall, precision, step='post', alpha=0.2, color='b')   \n",
    "    plt.xlabel('Recall')\n",
    "    plt.ylabel('Precision')\n",
    "    plt.ylim([0.0, 1.05])\n",
    "    plt.xlim([0.0, 1.0])\n",
    "    plt.title('2-class Precision-Recall curve: AP={0:0.2f}'.format(average_precision))\n",
    "    plt.show()"
   ]
  },
  {
   "cell_type": "code",
   "execution_count": null,
   "id": "0baee688",
   "metadata": {},
   "outputs": [],
   "source": []
  },
  {
   "cell_type": "code",
   "execution_count": null,
   "id": "c95d0599",
   "metadata": {},
   "outputs": [],
   "source": []
  },
  {
   "cell_type": "markdown",
   "id": "30f9170d",
   "metadata": {},
   "source": [
    "## Dealing with imbalanced classes"
   ]
  },
  {
   "cell_type": "markdown",
   "id": "9a9805c6",
   "metadata": {},
   "source": [
    "* From the graph below we can see that the target variable has a cleared skew in the Non-fraud class (0) compared with the fraud class (1). The Non-fraud class proportion is around 93% of the whole training dataset. It is considered as a Moderate Imbalance Class, as the proportion of minority class is between 1-20% of the dataset.\n",
    "* Undersampling would decrease the proportion of your majority class until the number is similar to the minority class. At the same time, Oversampling would resample the minority class proportion following the majority class proportion."
   ]
  },
  {
   "cell_type": "code",
   "execution_count": 15,
   "id": "86241162",
   "metadata": {},
   "outputs": [
    {
     "data": {
      "image/png": "[encoded data removed]",
      "text/plain": [
       "<Figure size 576x396 with 1 Axes>"
      ]
     },
     "metadata": {},
     "output_type": "display_data"
    },
    {
     "data": {
      "text/plain": [
       "<matplotlib.axes._subplots.AxesSubplot at 0x7fdfad1cea90>"
      ]
     },
     "execution_count": 15,
     "metadata": {},
     "output_type": "execute_result"
    }
   ],
   "source": [
    "from yellowbrick.target import ClassBalance\n",
    "y_train_1 = np.array(y_train).flatten()\n",
    "y_val_1 = np.array(y_val).flatten()\n",
    "\n",
    "# Instantiate the visualizer\n",
    "visualizer = ClassBalance(labels=[\"0\", \"1\"])\n",
    "\n",
    "visualizer.fit(y_train_1, y_val_1)        # Fit the data to the visualizer\n",
    "visualizer.show()        # Finalize and render the figure"
   ]
  },
  {
   "cell_type": "markdown",
   "id": "638e5a78",
   "metadata": {},
   "source": [
    "#### Training with imbalanced data using logistic regression\n",
    "* From the results of the confusion matrix, we can clearly see that the prediction tends to predict Non-fraud class (0) rather than Fraud class (1).  The bias is in the dataset."
   ]
  },
  {
   "cell_type": "code",
   "execution_count": 20,
   "id": "ef4a98cd",
   "metadata": {},
   "outputs": [
    {
     "name": "stderr",
     "output_type": "stream",
     "text": [
      "/Users/juliana/opt/anaconda3/envs/imblearn/lib/python3.7/site-packages/sklearn/utils/validation.py:744: DataConversionWarning: A column-vector y was passed when a 1d array was expected. Please change the shape of y to (n_samples, ), for example using ravel().\n",
      "  y = column_or_1d(y, warn=True)\n",
      "/Users/juliana/opt/anaconda3/envs/imblearn/lib/python3.7/site-packages/scipy/optimize/lbfgsb.py:329: DeprecationWarning: tostring() is deprecated. Use tobytes() instead.\n",
      "  task_str = task.tostring()\n",
      "/Users/juliana/opt/anaconda3/envs/imblearn/lib/python3.7/site-packages/scipy/optimize/lbfgsb.py:329: DeprecationWarning: tostring() is deprecated. Use tobytes() instead.\n",
      "  task_str = task.tostring()\n",
      "/Users/juliana/opt/anaconda3/envs/imblearn/lib/python3.7/site-packages/scipy/optimize/lbfgsb.py:329: DeprecationWarning: tostring() is deprecated. Use tobytes() instead.\n",
      "  task_str = task.tostring()\n",
      "/Users/juliana/opt/anaconda3/envs/imblearn/lib/python3.7/site-packages/scipy/optimize/lbfgsb.py:329: DeprecationWarning: tostring() is deprecated. Use tobytes() instead.\n",
      "  task_str = task.tostring()\n",
      "/Users/juliana/opt/anaconda3/envs/imblearn/lib/python3.7/site-packages/scipy/optimize/lbfgsb.py:329: DeprecationWarning: tostring() is deprecated. Use tobytes() instead.\n",
      "  task_str = task.tostring()\n",
      "/Users/juliana/opt/anaconda3/envs/imblearn/lib/python3.7/site-packages/scipy/optimize/lbfgsb.py:329: DeprecationWarning: tostring() is deprecated. Use tobytes() instead.\n",
      "  task_str = task.tostring()\n",
      "/Users/juliana/opt/anaconda3/envs/imblearn/lib/python3.7/site-packages/scipy/optimize/lbfgsb.py:329: DeprecationWarning: tostring() is deprecated. Use tobytes() instead.\n",
      "  task_str = task.tostring()\n",
      "/Users/juliana/opt/anaconda3/envs/imblearn/lib/python3.7/site-packages/scipy/optimize/lbfgsb.py:329: DeprecationWarning: tostring() is deprecated. Use tobytes() instead.\n",
      "  task_str = task.tostring()\n",
      "/Users/juliana/opt/anaconda3/envs/imblearn/lib/python3.7/site-packages/scipy/optimize/lbfgsb.py:329: DeprecationWarning: tostring() is deprecated. Use tobytes() instead.\n",
      "  task_str = task.tostring()\n",
      "/Users/juliana/opt/anaconda3/envs/imblearn/lib/python3.7/site-packages/scipy/optimize/lbfgsb.py:329: DeprecationWarning: tostring() is deprecated. Use tobytes() instead.\n",
      "  task_str = task.tostring()\n",
      "/Users/juliana/opt/anaconda3/envs/imblearn/lib/python3.7/site-packages/scipy/optimize/lbfgsb.py:329: DeprecationWarning: tostring() is deprecated. Use tobytes() instead.\n",
      "  task_str = task.tostring()\n",
      "/Users/juliana/opt/anaconda3/envs/imblearn/lib/python3.7/site-packages/scipy/optimize/lbfgsb.py:329: DeprecationWarning: tostring() is deprecated. Use tobytes() instead.\n",
      "  task_str = task.tostring()\n",
      "/Users/juliana/opt/anaconda3/envs/imblearn/lib/python3.7/site-packages/scipy/optimize/lbfgsb.py:329: DeprecationWarning: tostring() is deprecated. Use tobytes() instead.\n",
      "  task_str = task.tostring()\n",
      "/Users/juliana/opt/anaconda3/envs/imblearn/lib/python3.7/site-packages/scipy/optimize/lbfgsb.py:329: DeprecationWarning: tostring() is deprecated. Use tobytes() instead.\n",
      "  task_str = task.tostring()\n",
      "/Users/juliana/opt/anaconda3/envs/imblearn/lib/python3.7/site-packages/scipy/optimize/lbfgsb.py:329: DeprecationWarning: tostring() is deprecated. Use tobytes() instead.\n",
      "  task_str = task.tostring()\n",
      "/Users/juliana/opt/anaconda3/envs/imblearn/lib/python3.7/site-packages/scipy/optimize/lbfgsb.py:329: DeprecationWarning: tostring() is deprecated. Use tobytes() instead.\n",
      "  task_str = task.tostring()\n",
      "/Users/juliana/opt/anaconda3/envs/imblearn/lib/python3.7/site-packages/scipy/optimize/lbfgsb.py:329: DeprecationWarning: tostring() is deprecated. Use tobytes() instead.\n",
      "  task_str = task.tostring()\n",
      "/Users/juliana/opt/anaconda3/envs/imblearn/lib/python3.7/site-packages/scipy/optimize/lbfgsb.py:329: DeprecationWarning: tostring() is deprecated. Use tobytes() instead.\n",
      "  task_str = task.tostring()\n",
      "/Users/juliana/opt/anaconda3/envs/imblearn/lib/python3.7/site-packages/scipy/optimize/lbfgsb.py:329: DeprecationWarning: tostring() is deprecated. Use tobytes() instead.\n",
      "  task_str = task.tostring()\n",
      "/Users/juliana/opt/anaconda3/envs/imblearn/lib/python3.7/site-packages/scipy/optimize/lbfgsb.py:329: DeprecationWarning: tostring() is deprecated. Use tobytes() instead.\n",
      "  task_str = task.tostring()\n",
      "/Users/juliana/opt/anaconda3/envs/imblearn/lib/python3.7/site-packages/scipy/optimize/lbfgsb.py:329: DeprecationWarning: tostring() is deprecated. Use tobytes() instead.\n",
      "  task_str = task.tostring()\n",
      "/Users/juliana/opt/anaconda3/envs/imblearn/lib/python3.7/site-packages/scipy/optimize/lbfgsb.py:329: DeprecationWarning: tostring() is deprecated. Use tobytes() instead.\n",
      "  task_str = task.tostring()\n",
      "/Users/juliana/opt/anaconda3/envs/imblearn/lib/python3.7/site-packages/scipy/optimize/lbfgsb.py:329: DeprecationWarning: tostring() is deprecated. Use tobytes() instead.\n",
      "  task_str = task.tostring()\n",
      "/Users/juliana/opt/anaconda3/envs/imblearn/lib/python3.7/site-packages/scipy/optimize/lbfgsb.py:329: DeprecationWarning: tostring() is deprecated. Use tobytes() instead.\n",
      "  task_str = task.tostring()\n",
      "/Users/juliana/opt/anaconda3/envs/imblearn/lib/python3.7/site-packages/scipy/optimize/lbfgsb.py:329: DeprecationWarning: tostring() is deprecated. Use tobytes() instead.\n",
      "  task_str = task.tostring()\n",
      "/Users/juliana/opt/anaconda3/envs/imblearn/lib/python3.7/site-packages/scipy/optimize/lbfgsb.py:329: DeprecationWarning: tostring() is deprecated. Use tobytes() instead.\n",
      "  task_str = task.tostring()\n",
      "/Users/juliana/opt/anaconda3/envs/imblearn/lib/python3.7/site-packages/scipy/optimize/lbfgsb.py:329: DeprecationWarning: tostring() is deprecated. Use tobytes() instead.\n",
      "  task_str = task.tostring()\n",
      "/Users/juliana/opt/anaconda3/envs/imblearn/lib/python3.7/site-packages/scipy/optimize/lbfgsb.py:329: DeprecationWarning: tostring() is deprecated. Use tobytes() instead.\n",
      "  task_str = task.tostring()\n",
      "/Users/juliana/opt/anaconda3/envs/imblearn/lib/python3.7/site-packages/scipy/optimize/lbfgsb.py:329: DeprecationWarning: tostring() is deprecated. Use tobytes() instead.\n",
      "  task_str = task.tostring()\n",
      "/Users/juliana/opt/anaconda3/envs/imblearn/lib/python3.7/site-packages/scipy/optimize/lbfgsb.py:329: DeprecationWarning: tostring() is deprecated. Use tobytes() instead.\n",
      "  task_str = task.tostring()\n",
      "/Users/juliana/opt/anaconda3/envs/imblearn/lib/python3.7/site-packages/scipy/optimize/lbfgsb.py:329: DeprecationWarning: tostring() is deprecated. Use tobytes() instead.\n",
      "  task_str = task.tostring()\n",
      "/Users/juliana/opt/anaconda3/envs/imblearn/lib/python3.7/site-packages/scipy/optimize/lbfgsb.py:329: DeprecationWarning: tostring() is deprecated. Use tobytes() instead.\n",
      "  task_str = task.tostring()\n",
      "/Users/juliana/opt/anaconda3/envs/imblearn/lib/python3.7/site-packages/scipy/optimize/lbfgsb.py:329: DeprecationWarning: tostring() is deprecated. Use tobytes() instead.\n",
      "  task_str = task.tostring()\n",
      "/Users/juliana/opt/anaconda3/envs/imblearn/lib/python3.7/site-packages/scipy/optimize/lbfgsb.py:329: DeprecationWarning: tostring() is deprecated. Use tobytes() instead.\n",
      "  task_str = task.tostring()\n",
      "/Users/juliana/opt/anaconda3/envs/imblearn/lib/python3.7/site-packages/scipy/optimize/lbfgsb.py:329: DeprecationWarning: tostring() is deprecated. Use tobytes() instead.\n",
      "  task_str = task.tostring()\n",
      "/Users/juliana/opt/anaconda3/envs/imblearn/lib/python3.7/site-packages/scipy/optimize/lbfgsb.py:329: DeprecationWarning: tostring() is deprecated. Use tobytes() instead.\n",
      "  task_str = task.tostring()\n",
      "/Users/juliana/opt/anaconda3/envs/imblearn/lib/python3.7/site-packages/scipy/optimize/lbfgsb.py:329: DeprecationWarning: tostring() is deprecated. Use tobytes() instead.\n",
      "  task_str = task.tostring()\n",
      "/Users/juliana/opt/anaconda3/envs/imblearn/lib/python3.7/site-packages/scipy/optimize/lbfgsb.py:329: DeprecationWarning: tostring() is deprecated. Use tobytes() instead.\n",
      "  task_str = task.tostring()\n",
      "/Users/juliana/opt/anaconda3/envs/imblearn/lib/python3.7/site-packages/scipy/optimize/lbfgsb.py:329: DeprecationWarning: tostring() is deprecated. Use tobytes() instead.\n",
      "  task_str = task.tostring()\n",
      "/Users/juliana/opt/anaconda3/envs/imblearn/lib/python3.7/site-packages/scipy/optimize/lbfgsb.py:329: DeprecationWarning: tostring() is deprecated. Use tobytes() instead.\n",
      "  task_str = task.tostring()\n",
      "/Users/juliana/opt/anaconda3/envs/imblearn/lib/python3.7/site-packages/scipy/optimize/lbfgsb.py:329: DeprecationWarning: tostring() is deprecated. Use tobytes() instead.\n",
      "  task_str = task.tostring()\n",
      "/Users/juliana/opt/anaconda3/envs/imblearn/lib/python3.7/site-packages/scipy/optimize/lbfgsb.py:329: DeprecationWarning: tostring() is deprecated. Use tobytes() instead.\n",
      "  task_str = task.tostring()\n",
      "/Users/juliana/opt/anaconda3/envs/imblearn/lib/python3.7/site-packages/scipy/optimize/lbfgsb.py:329: DeprecationWarning: tostring() is deprecated. Use tobytes() instead.\n",
      "  task_str = task.tostring()\n",
      "/Users/juliana/opt/anaconda3/envs/imblearn/lib/python3.7/site-packages/scipy/optimize/lbfgsb.py:329: DeprecationWarning: tostring() is deprecated. Use tobytes() instead.\n",
      "  task_str = task.tostring()\n",
      "/Users/juliana/opt/anaconda3/envs/imblearn/lib/python3.7/site-packages/scipy/optimize/lbfgsb.py:329: DeprecationWarning: tostring() is deprecated. Use tobytes() instead.\n",
      "  task_str = task.tostring()\n",
      "/Users/juliana/opt/anaconda3/envs/imblearn/lib/python3.7/site-packages/scipy/optimize/lbfgsb.py:329: DeprecationWarning: tostring() is deprecated. Use tobytes() instead.\n",
      "  task_str = task.tostring()\n",
      "/Users/juliana/opt/anaconda3/envs/imblearn/lib/python3.7/site-packages/scipy/optimize/lbfgsb.py:329: DeprecationWarning: tostring() is deprecated. Use tobytes() instead.\n",
      "  task_str = task.tostring()\n",
      "/Users/juliana/opt/anaconda3/envs/imblearn/lib/python3.7/site-packages/scipy/optimize/lbfgsb.py:329: DeprecationWarning: tostring() is deprecated. Use tobytes() instead.\n",
      "  task_str = task.tostring()\n",
      "/Users/juliana/opt/anaconda3/envs/imblearn/lib/python3.7/site-packages/scipy/optimize/lbfgsb.py:329: DeprecationWarning: tostring() is deprecated. Use tobytes() instead.\n",
      "  task_str = task.tostring()\n",
      "/Users/juliana/opt/anaconda3/envs/imblearn/lib/python3.7/site-packages/scipy/optimize/lbfgsb.py:329: DeprecationWarning: tostring() is deprecated. Use tobytes() instead.\n",
      "  task_str = task.tostring()\n",
      "/Users/juliana/opt/anaconda3/envs/imblearn/lib/python3.7/site-packages/scipy/optimize/lbfgsb.py:329: DeprecationWarning: tostring() is deprecated. Use tobytes() instead.\n",
      "  task_str = task.tostring()\n",
      "/Users/juliana/opt/anaconda3/envs/imblearn/lib/python3.7/site-packages/scipy/optimize/lbfgsb.py:329: DeprecationWarning: tostring() is deprecated. Use tobytes() instead.\n",
      "  task_str = task.tostring()\n",
      "/Users/juliana/opt/anaconda3/envs/imblearn/lib/python3.7/site-packages/scipy/optimize/lbfgsb.py:329: DeprecationWarning: tostring() is deprecated. Use tobytes() instead.\n",
      "  task_str = task.tostring()\n",
      "/Users/juliana/opt/anaconda3/envs/imblearn/lib/python3.7/site-packages/scipy/optimize/lbfgsb.py:329: DeprecationWarning: tostring() is deprecated. Use tobytes() instead.\n",
      "  task_str = task.tostring()\n",
      "/Users/juliana/opt/anaconda3/envs/imblearn/lib/python3.7/site-packages/scipy/optimize/lbfgsb.py:329: DeprecationWarning: tostring() is deprecated. Use tobytes() instead.\n",
      "  task_str = task.tostring()\n",
      "/Users/juliana/opt/anaconda3/envs/imblearn/lib/python3.7/site-packages/scipy/optimize/lbfgsb.py:329: DeprecationWarning: tostring() is deprecated. Use tobytes() instead.\n",
      "  task_str = task.tostring()\n",
      "/Users/juliana/opt/anaconda3/envs/imblearn/lib/python3.7/site-packages/scipy/optimize/lbfgsb.py:329: DeprecationWarning: tostring() is deprecated. Use tobytes() instead.\n",
      "  task_str = task.tostring()\n",
      "/Users/juliana/opt/anaconda3/envs/imblearn/lib/python3.7/site-packages/scipy/optimize/lbfgsb.py:329: DeprecationWarning: tostring() is deprecated. Use tobytes() instead.\n",
      "  task_str = task.tostring()\n",
      "/Users/juliana/opt/anaconda3/envs/imblearn/lib/python3.7/site-packages/scipy/optimize/lbfgsb.py:329: DeprecationWarning: tostring() is deprecated. Use tobytes() instead.\n",
      "  task_str = task.tostring()\n",
      "/Users/juliana/opt/anaconda3/envs/imblearn/lib/python3.7/site-packages/scipy/optimize/lbfgsb.py:329: DeprecationWarning: tostring() is deprecated. Use tobytes() instead.\n",
      "  task_str = task.tostring()\n",
      "/Users/juliana/opt/anaconda3/envs/imblearn/lib/python3.7/site-packages/scipy/optimize/lbfgsb.py:329: DeprecationWarning: tostring() is deprecated. Use tobytes() instead.\n",
      "  task_str = task.tostring()\n",
      "/Users/juliana/opt/anaconda3/envs/imblearn/lib/python3.7/site-packages/scipy/optimize/lbfgsb.py:329: DeprecationWarning: tostring() is deprecated. Use tobytes() instead.\n",
      "  task_str = task.tostring()\n",
      "/Users/juliana/opt/anaconda3/envs/imblearn/lib/python3.7/site-packages/scipy/optimize/lbfgsb.py:329: DeprecationWarning: tostring() is deprecated. Use tobytes() instead.\n",
      "  task_str = task.tostring()\n",
      "/Users/juliana/opt/anaconda3/envs/imblearn/lib/python3.7/site-packages/scipy/optimize/lbfgsb.py:329: DeprecationWarning: tostring() is deprecated. Use tobytes() instead.\n",
      "  task_str = task.tostring()\n",
      "/Users/juliana/opt/anaconda3/envs/imblearn/lib/python3.7/site-packages/scipy/optimize/lbfgsb.py:329: DeprecationWarning: tostring() is deprecated. Use tobytes() instead.\n",
      "  task_str = task.tostring()\n",
      "/Users/juliana/opt/anaconda3/envs/imblearn/lib/python3.7/site-packages/scipy/optimize/lbfgsb.py:329: DeprecationWarning: tostring() is deprecated. Use tobytes() instead.\n",
      "  task_str = task.tostring()\n",
      "/Users/juliana/opt/anaconda3/envs/imblearn/lib/python3.7/site-packages/scipy/optimize/lbfgsb.py:329: DeprecationWarning: tostring() is deprecated. Use tobytes() instead.\n",
      "  task_str = task.tostring()\n",
      "/Users/juliana/opt/anaconda3/envs/imblearn/lib/python3.7/site-packages/scipy/optimize/lbfgsb.py:329: DeprecationWarning: tostring() is deprecated. Use tobytes() instead.\n",
      "  task_str = task.tostring()\n",
      "/Users/juliana/opt/anaconda3/envs/imblearn/lib/python3.7/site-packages/scipy/optimize/lbfgsb.py:329: DeprecationWarning: tostring() is deprecated. Use tobytes() instead.\n",
      "  task_str = task.tostring()\n",
      "/Users/juliana/opt/anaconda3/envs/imblearn/lib/python3.7/site-packages/scipy/optimize/lbfgsb.py:329: DeprecationWarning: tostring() is deprecated. Use tobytes() instead.\n",
      "  task_str = task.tostring()\n",
      "/Users/juliana/opt/anaconda3/envs/imblearn/lib/python3.7/site-packages/scipy/optimize/lbfgsb.py:329: DeprecationWarning: tostring() is deprecated. Use tobytes() instead.\n",
      "  task_str = task.tostring()\n",
      "/Users/juliana/opt/anaconda3/envs/imblearn/lib/python3.7/site-packages/scipy/optimize/lbfgsb.py:329: DeprecationWarning: tostring() is deprecated. Use tobytes() instead.\n",
      "  task_str = task.tostring()\n",
      "/Users/juliana/opt/anaconda3/envs/imblearn/lib/python3.7/site-packages/scipy/optimize/lbfgsb.py:329: DeprecationWarning: tostring() is deprecated. Use tobytes() instead.\n",
      "  task_str = task.tostring()\n",
      "/Users/juliana/opt/anaconda3/envs/imblearn/lib/python3.7/site-packages/scipy/optimize/lbfgsb.py:329: DeprecationWarning: tostring() is deprecated. Use tobytes() instead.\n",
      "  task_str = task.tostring()\n",
      "/Users/juliana/opt/anaconda3/envs/imblearn/lib/python3.7/site-packages/scipy/optimize/lbfgsb.py:329: DeprecationWarning: tostring() is deprecated. Use tobytes() instead.\n",
      "  task_str = task.tostring()\n",
      "/Users/juliana/opt/anaconda3/envs/imblearn/lib/python3.7/site-packages/scipy/optimize/lbfgsb.py:329: DeprecationWarning: tostring() is deprecated. Use tobytes() instead.\n",
      "  task_str = task.tostring()\n",
      "/Users/juliana/opt/anaconda3/envs/imblearn/lib/python3.7/site-packages/scipy/optimize/lbfgsb.py:329: DeprecationWarning: tostring() is deprecated. Use tobytes() instead.\n",
      "  task_str = task.tostring()\n",
      "/Users/juliana/opt/anaconda3/envs/imblearn/lib/python3.7/site-packages/scipy/optimize/lbfgsb.py:329: DeprecationWarning: tostring() is deprecated. Use tobytes() instead.\n",
      "  task_str = task.tostring()\n",
      "/Users/juliana/opt/anaconda3/envs/imblearn/lib/python3.7/site-packages/scipy/optimize/lbfgsb.py:329: DeprecationWarning: tostring() is deprecated. Use tobytes() instead.\n",
      "  task_str = task.tostring()\n",
      "/Users/juliana/opt/anaconda3/envs/imblearn/lib/python3.7/site-packages/scipy/optimize/lbfgsb.py:329: DeprecationWarning: tostring() is deprecated. Use tobytes() instead.\n",
      "  task_str = task.tostring()\n",
      "/Users/juliana/opt/anaconda3/envs/imblearn/lib/python3.7/site-packages/scipy/optimize/lbfgsb.py:329: DeprecationWarning: tostring() is deprecated. Use tobytes() instead.\n",
      "  task_str = task.tostring()\n",
      "/Users/juliana/opt/anaconda3/envs/imblearn/lib/python3.7/site-packages/scipy/optimize/lbfgsb.py:329: DeprecationWarning: tostring() is deprecated. Use tobytes() instead.\n",
      "  task_str = task.tostring()\n",
      "/Users/juliana/opt/anaconda3/envs/imblearn/lib/python3.7/site-packages/scipy/optimize/lbfgsb.py:329: DeprecationWarning: tostring() is deprecated. Use tobytes() instead.\n",
      "  task_str = task.tostring()\n",
      "/Users/juliana/opt/anaconda3/envs/imblearn/lib/python3.7/site-packages/scipy/optimize/lbfgsb.py:329: DeprecationWarning: tostring() is deprecated. Use tobytes() instead.\n",
      "  task_str = task.tostring()\n",
      "/Users/juliana/opt/anaconda3/envs/imblearn/lib/python3.7/site-packages/scipy/optimize/lbfgsb.py:329: DeprecationWarning: tostring() is deprecated. Use tobytes() instead.\n",
      "  task_str = task.tostring()\n",
      "/Users/juliana/opt/anaconda3/envs/imblearn/lib/python3.7/site-packages/scipy/optimize/lbfgsb.py:329: DeprecationWarning: tostring() is deprecated. Use tobytes() instead.\n",
      "  task_str = task.tostring()\n",
      "/Users/juliana/opt/anaconda3/envs/imblearn/lib/python3.7/site-packages/scipy/optimize/lbfgsb.py:329: DeprecationWarning: tostring() is deprecated. Use tobytes() instead.\n",
      "  task_str = task.tostring()\n",
      "/Users/juliana/opt/anaconda3/envs/imblearn/lib/python3.7/site-packages/scipy/optimize/lbfgsb.py:329: DeprecationWarning: tostring() is deprecated. Use tobytes() instead.\n",
      "  task_str = task.tostring()\n",
      "/Users/juliana/opt/anaconda3/envs/imblearn/lib/python3.7/site-packages/scipy/optimize/lbfgsb.py:329: DeprecationWarning: tostring() is deprecated. Use tobytes() instead.\n",
      "  task_str = task.tostring()\n",
      "/Users/juliana/opt/anaconda3/envs/imblearn/lib/python3.7/site-packages/scipy/optimize/lbfgsb.py:329: DeprecationWarning: tostring() is deprecated. Use tobytes() instead.\n",
      "  task_str = task.tostring()\n",
      "/Users/juliana/opt/anaconda3/envs/imblearn/lib/python3.7/site-packages/scipy/optimize/lbfgsb.py:329: DeprecationWarning: tostring() is deprecated. Use tobytes() instead.\n",
      "  task_str = task.tostring()\n",
      "/Users/juliana/opt/anaconda3/envs/imblearn/lib/python3.7/site-packages/scipy/optimize/lbfgsb.py:329: DeprecationWarning: tostring() is deprecated. Use tobytes() instead.\n",
      "  task_str = task.tostring()\n",
      "/Users/juliana/opt/anaconda3/envs/imblearn/lib/python3.7/site-packages/scipy/optimize/lbfgsb.py:329: DeprecationWarning: tostring() is deprecated. Use tobytes() instead.\n",
      "  task_str = task.tostring()\n",
      "/Users/juliana/opt/anaconda3/envs/imblearn/lib/python3.7/site-packages/scipy/optimize/lbfgsb.py:329: DeprecationWarning: tostring() is deprecated. Use tobytes() instead.\n",
      "  task_str = task.tostring()\n",
      "/Users/juliana/opt/anaconda3/envs/imblearn/lib/python3.7/site-packages/scipy/optimize/lbfgsb.py:329: DeprecationWarning: tostring() is deprecated. Use tobytes() instead.\n",
      "  task_str = task.tostring()\n",
      "/Users/juliana/opt/anaconda3/envs/imblearn/lib/python3.7/site-packages/scipy/optimize/lbfgsb.py:329: DeprecationWarning: tostring() is deprecated. Use tobytes() instead.\n",
      "  task_str = task.tostring()\n",
      "/Users/juliana/opt/anaconda3/envs/imblearn/lib/python3.7/site-packages/scipy/optimize/lbfgsb.py:329: DeprecationWarning: tostring() is deprecated. Use tobytes() instead.\n",
      "  task_str = task.tostring()\n",
      "/Users/juliana/opt/anaconda3/envs/imblearn/lib/python3.7/site-packages/scipy/optimize/lbfgsb.py:329: DeprecationWarning: tostring() is deprecated. Use tobytes() instead.\n",
      "  task_str = task.tostring()\n",
      "/Users/juliana/opt/anaconda3/envs/imblearn/lib/python3.7/site-packages/scipy/optimize/lbfgsb.py:329: DeprecationWarning: tostring() is deprecated. Use tobytes() instead.\n",
      "  task_str = task.tostring()\n",
      "/Users/juliana/opt/anaconda3/envs/imblearn/lib/python3.7/site-packages/scipy/optimize/lbfgsb.py:329: DeprecationWarning: tostring() is deprecated. Use tobytes() instead.\n",
      "  task_str = task.tostring()\n",
      "/Users/juliana/opt/anaconda3/envs/imblearn/lib/python3.7/site-packages/scipy/optimize/lbfgsb.py:329: DeprecationWarning: tostring() is deprecated. Use tobytes() instead.\n",
      "  task_str = task.tostring()\n",
      "/Users/juliana/opt/anaconda3/envs/imblearn/lib/python3.7/site-packages/scipy/optimize/lbfgsb.py:329: DeprecationWarning: tostring() is deprecated. Use tobytes() instead.\n",
      "  task_str = task.tostring()\n",
      "/Users/juliana/opt/anaconda3/envs/imblearn/lib/python3.7/site-packages/scipy/optimize/lbfgsb.py:329: DeprecationWarning: tostring() is deprecated. Use tobytes() instead.\n",
      "  task_str = task.tostring()\n",
      "/Users/juliana/opt/anaconda3/envs/imblearn/lib/python3.7/site-packages/scipy/optimize/lbfgsb.py:329: DeprecationWarning: tostring() is deprecated. Use tobytes() instead.\n",
      "  task_str = task.tostring()\n",
      "/Users/juliana/opt/anaconda3/envs/imblearn/lib/python3.7/site-packages/scipy/optimize/lbfgsb.py:329: DeprecationWarning: tostring() is deprecated. Use tobytes() instead.\n",
      "  task_str = task.tostring()\n",
      "/Users/juliana/opt/anaconda3/envs/imblearn/lib/python3.7/site-packages/scipy/optimize/lbfgsb.py:329: DeprecationWarning: tostring() is deprecated. Use tobytes() instead.\n",
      "  task_str = task.tostring()\n",
      "/Users/juliana/opt/anaconda3/envs/imblearn/lib/python3.7/site-packages/scipy/optimize/lbfgsb.py:329: DeprecationWarning: tostring() is deprecated. Use tobytes() instead.\n",
      "  task_str = task.tostring()\n",
      "/Users/juliana/opt/anaconda3/envs/imblearn/lib/python3.7/site-packages/scipy/optimize/lbfgsb.py:329: DeprecationWarning: tostring() is deprecated. Use tobytes() instead.\n",
      "  task_str = task.tostring()\n",
      "/Users/juliana/opt/anaconda3/envs/imblearn/lib/python3.7/site-packages/scipy/optimize/lbfgsb.py:329: DeprecationWarning: tostring() is deprecated. Use tobytes() instead.\n",
      "  task_str = task.tostring()\n",
      "/Users/juliana/opt/anaconda3/envs/imblearn/lib/python3.7/site-packages/scipy/optimize/lbfgsb.py:329: DeprecationWarning: tostring() is deprecated. Use tobytes() instead.\n",
      "  task_str = task.tostring()\n",
      "/Users/juliana/opt/anaconda3/envs/imblearn/lib/python3.7/site-packages/scipy/optimize/lbfgsb.py:329: DeprecationWarning: tostring() is deprecated. Use tobytes() instead.\n",
      "  task_str = task.tostring()\n",
      "/Users/juliana/opt/anaconda3/envs/imblearn/lib/python3.7/site-packages/scipy/optimize/lbfgsb.py:329: DeprecationWarning: tostring() is deprecated. Use tobytes() instead.\n",
      "  task_str = task.tostring()\n",
      "/Users/juliana/opt/anaconda3/envs/imblearn/lib/python3.7/site-packages/scipy/optimize/lbfgsb.py:329: DeprecationWarning: tostring() is deprecated. Use tobytes() instead.\n",
      "  task_str = task.tostring()\n",
      "/Users/juliana/opt/anaconda3/envs/imblearn/lib/python3.7/site-packages/scipy/optimize/lbfgsb.py:329: DeprecationWarning: tostring() is deprecated. Use tobytes() instead.\n",
      "  task_str = task.tostring()\n",
      "/Users/juliana/opt/anaconda3/envs/imblearn/lib/python3.7/site-packages/scipy/optimize/lbfgsb.py:329: DeprecationWarning: tostring() is deprecated. Use tobytes() instead.\n",
      "  task_str = task.tostring()\n",
      "/Users/juliana/opt/anaconda3/envs/imblearn/lib/python3.7/site-packages/scipy/optimize/lbfgsb.py:329: DeprecationWarning: tostring() is deprecated. Use tobytes() instead.\n",
      "  task_str = task.tostring()\n",
      "/Users/juliana/opt/anaconda3/envs/imblearn/lib/python3.7/site-packages/scipy/optimize/lbfgsb.py:329: DeprecationWarning: tostring() is deprecated. Use tobytes() instead.\n",
      "  task_str = task.tostring()\n",
      "/Users/juliana/opt/anaconda3/envs/imblearn/lib/python3.7/site-packages/scipy/optimize/lbfgsb.py:329: DeprecationWarning: tostring() is deprecated. Use tobytes() instead.\n",
      "  task_str = task.tostring()\n",
      "/Users/juliana/opt/anaconda3/envs/imblearn/lib/python3.7/site-packages/scipy/optimize/lbfgsb.py:329: DeprecationWarning: tostring() is deprecated. Use tobytes() instead.\n",
      "  task_str = task.tostring()\n",
      "/Users/juliana/opt/anaconda3/envs/imblearn/lib/python3.7/site-packages/scipy/optimize/lbfgsb.py:329: DeprecationWarning: tostring() is deprecated. Use tobytes() instead.\n",
      "  task_str = task.tostring()\n",
      "/Users/juliana/opt/anaconda3/envs/imblearn/lib/python3.7/site-packages/scipy/optimize/lbfgsb.py:329: DeprecationWarning: tostring() is deprecated. Use tobytes() instead.\n",
      "  task_str = task.tostring()\n",
      "/Users/juliana/opt/anaconda3/envs/imblearn/lib/python3.7/site-packages/scipy/optimize/lbfgsb.py:329: DeprecationWarning: tostring() is deprecated. Use tobytes() instead.\n",
      "  task_str = task.tostring()\n",
      "/Users/juliana/opt/anaconda3/envs/imblearn/lib/python3.7/site-packages/scipy/optimize/lbfgsb.py:329: DeprecationWarning: tostring() is deprecated. Use tobytes() instead.\n",
      "  task_str = task.tostring()\n",
      "/Users/juliana/opt/anaconda3/envs/imblearn/lib/python3.7/site-packages/scipy/optimize/lbfgsb.py:329: DeprecationWarning: tostring() is deprecated. Use tobytes() instead.\n",
      "  task_str = task.tostring()\n",
      "/Users/juliana/opt/anaconda3/envs/imblearn/lib/python3.7/site-packages/scipy/optimize/lbfgsb.py:329: DeprecationWarning: tostring() is deprecated. Use tobytes() instead.\n",
      "  task_str = task.tostring()\n",
      "/Users/juliana/opt/anaconda3/envs/imblearn/lib/python3.7/site-packages/scipy/optimize/lbfgsb.py:329: DeprecationWarning: tostring() is deprecated. Use tobytes() instead.\n",
      "  task_str = task.tostring()\n",
      "/Users/juliana/opt/anaconda3/envs/imblearn/lib/python3.7/site-packages/scipy/optimize/lbfgsb.py:329: DeprecationWarning: tostring() is deprecated. Use tobytes() instead.\n",
      "  task_str = task.tostring()\n",
      "/Users/juliana/opt/anaconda3/envs/imblearn/lib/python3.7/site-packages/scipy/optimize/lbfgsb.py:329: DeprecationWarning: tostring() is deprecated. Use tobytes() instead.\n",
      "  task_str = task.tostring()\n",
      "/Users/juliana/opt/anaconda3/envs/imblearn/lib/python3.7/site-packages/scipy/optimize/lbfgsb.py:329: DeprecationWarning: tostring() is deprecated. Use tobytes() instead.\n",
      "  task_str = task.tostring()\n",
      "/Users/juliana/opt/anaconda3/envs/imblearn/lib/python3.7/site-packages/scipy/optimize/lbfgsb.py:329: DeprecationWarning: tostring() is deprecated. Use tobytes() instead.\n",
      "  task_str = task.tostring()\n",
      "/Users/juliana/opt/anaconda3/envs/imblearn/lib/python3.7/site-packages/scipy/optimize/lbfgsb.py:329: DeprecationWarning: tostring() is deprecated. Use tobytes() instead.\n",
      "  task_str = task.tostring()\n",
      "/Users/juliana/opt/anaconda3/envs/imblearn/lib/python3.7/site-packages/scipy/optimize/lbfgsb.py:329: DeprecationWarning: tostring() is deprecated. Use tobytes() instead.\n",
      "  task_str = task.tostring()\n",
      "/Users/juliana/opt/anaconda3/envs/imblearn/lib/python3.7/site-packages/scipy/optimize/lbfgsb.py:329: DeprecationWarning: tostring() is deprecated. Use tobytes() instead.\n",
      "  task_str = task.tostring()\n",
      "/Users/juliana/opt/anaconda3/envs/imblearn/lib/python3.7/site-packages/scipy/optimize/lbfgsb.py:329: DeprecationWarning: tostring() is deprecated. Use tobytes() instead.\n",
      "  task_str = task.tostring()\n",
      "/Users/juliana/opt/anaconda3/envs/imblearn/lib/python3.7/site-packages/scipy/optimize/lbfgsb.py:329: DeprecationWarning: tostring() is deprecated. Use tobytes() instead.\n",
      "  task_str = task.tostring()\n",
      "/Users/juliana/opt/anaconda3/envs/imblearn/lib/python3.7/site-packages/scipy/optimize/lbfgsb.py:329: DeprecationWarning: tostring() is deprecated. Use tobytes() instead.\n",
      "  task_str = task.tostring()\n",
      "/Users/juliana/opt/anaconda3/envs/imblearn/lib/python3.7/site-packages/scipy/optimize/lbfgsb.py:329: DeprecationWarning: tostring() is deprecated. Use tobytes() instead.\n",
      "  task_str = task.tostring()\n",
      "/Users/juliana/opt/anaconda3/envs/imblearn/lib/python3.7/site-packages/scipy/optimize/lbfgsb.py:329: DeprecationWarning: tostring() is deprecated. Use tobytes() instead.\n",
      "  task_str = task.tostring()\n",
      "/Users/juliana/opt/anaconda3/envs/imblearn/lib/python3.7/site-packages/scipy/optimize/lbfgsb.py:329: DeprecationWarning: tostring() is deprecated. Use tobytes() instead.\n",
      "  task_str = task.tostring()\n",
      "/Users/juliana/opt/anaconda3/envs/imblearn/lib/python3.7/site-packages/scipy/optimize/lbfgsb.py:329: DeprecationWarning: tostring() is deprecated. Use tobytes() instead.\n",
      "  task_str = task.tostring()\n",
      "/Users/juliana/opt/anaconda3/envs/imblearn/lib/python3.7/site-packages/scipy/optimize/lbfgsb.py:329: DeprecationWarning: tostring() is deprecated. Use tobytes() instead.\n",
      "  task_str = task.tostring()\n",
      "/Users/juliana/opt/anaconda3/envs/imblearn/lib/python3.7/site-packages/scipy/optimize/lbfgsb.py:329: DeprecationWarning: tostring() is deprecated. Use tobytes() instead.\n",
      "  task_str = task.tostring()\n",
      "/Users/juliana/opt/anaconda3/envs/imblearn/lib/python3.7/site-packages/scipy/optimize/lbfgsb.py:329: DeprecationWarning: tostring() is deprecated. Use tobytes() instead.\n",
      "  task_str = task.tostring()\n",
      "/Users/juliana/opt/anaconda3/envs/imblearn/lib/python3.7/site-packages/scipy/optimize/lbfgsb.py:329: DeprecationWarning: tostring() is deprecated. Use tobytes() instead.\n",
      "  task_str = task.tostring()\n",
      "/Users/juliana/opt/anaconda3/envs/imblearn/lib/python3.7/site-packages/scipy/optimize/lbfgsb.py:329: DeprecationWarning: tostring() is deprecated. Use tobytes() instead.\n",
      "  task_str = task.tostring()\n",
      "/Users/juliana/opt/anaconda3/envs/imblearn/lib/python3.7/site-packages/scipy/optimize/lbfgsb.py:329: DeprecationWarning: tostring() is deprecated. Use tobytes() instead.\n",
      "  task_str = task.tostring()\n",
      "/Users/juliana/opt/anaconda3/envs/imblearn/lib/python3.7/site-packages/scipy/optimize/lbfgsb.py:329: DeprecationWarning: tostring() is deprecated. Use tobytes() instead.\n",
      "  task_str = task.tostring()\n",
      "/Users/juliana/opt/anaconda3/envs/imblearn/lib/python3.7/site-packages/scipy/optimize/lbfgsb.py:329: DeprecationWarning: tostring() is deprecated. Use tobytes() instead.\n",
      "  task_str = task.tostring()\n",
      "/Users/juliana/opt/anaconda3/envs/imblearn/lib/python3.7/site-packages/scipy/optimize/lbfgsb.py:329: DeprecationWarning: tostring() is deprecated. Use tobytes() instead.\n",
      "  task_str = task.tostring()\n",
      "/Users/juliana/opt/anaconda3/envs/imblearn/lib/python3.7/site-packages/scipy/optimize/lbfgsb.py:329: DeprecationWarning: tostring() is deprecated. Use tobytes() instead.\n",
      "  task_str = task.tostring()\n",
      "/Users/juliana/opt/anaconda3/envs/imblearn/lib/python3.7/site-packages/scipy/optimize/lbfgsb.py:329: DeprecationWarning: tostring() is deprecated. Use tobytes() instead.\n",
      "  task_str = task.tostring()\n",
      "/Users/juliana/opt/anaconda3/envs/imblearn/lib/python3.7/site-packages/scipy/optimize/lbfgsb.py:329: DeprecationWarning: tostring() is deprecated. Use tobytes() instead.\n",
      "  task_str = task.tostring()\n",
      "/Users/juliana/opt/anaconda3/envs/imblearn/lib/python3.7/site-packages/scipy/optimize/lbfgsb.py:329: DeprecationWarning: tostring() is deprecated. Use tobytes() instead.\n",
      "  task_str = task.tostring()\n",
      "/Users/juliana/opt/anaconda3/envs/imblearn/lib/python3.7/site-packages/scipy/optimize/lbfgsb.py:329: DeprecationWarning: tostring() is deprecated. Use tobytes() instead.\n",
      "  task_str = task.tostring()\n",
      "/Users/juliana/opt/anaconda3/envs/imblearn/lib/python3.7/site-packages/scipy/optimize/lbfgsb.py:329: DeprecationWarning: tostring() is deprecated. Use tobytes() instead.\n",
      "  task_str = task.tostring()\n",
      "/Users/juliana/opt/anaconda3/envs/imblearn/lib/python3.7/site-packages/scipy/optimize/lbfgsb.py:329: DeprecationWarning: tostring() is deprecated. Use tobytes() instead.\n",
      "  task_str = task.tostring()\n",
      "/Users/juliana/opt/anaconda3/envs/imblearn/lib/python3.7/site-packages/scipy/optimize/lbfgsb.py:329: DeprecationWarning: tostring() is deprecated. Use tobytes() instead.\n",
      "  task_str = task.tostring()\n",
      "/Users/juliana/opt/anaconda3/envs/imblearn/lib/python3.7/site-packages/scipy/optimize/lbfgsb.py:329: DeprecationWarning: tostring() is deprecated. Use tobytes() instead.\n",
      "  task_str = task.tostring()\n",
      "/Users/juliana/opt/anaconda3/envs/imblearn/lib/python3.7/site-packages/scipy/optimize/lbfgsb.py:329: DeprecationWarning: tostring() is deprecated. Use tobytes() instead.\n",
      "  task_str = task.tostring()\n",
      "/Users/juliana/opt/anaconda3/envs/imblearn/lib/python3.7/site-packages/scipy/optimize/lbfgsb.py:329: DeprecationWarning: tostring() is deprecated. Use tobytes() instead.\n",
      "  task_str = task.tostring()\n",
      "/Users/juliana/opt/anaconda3/envs/imblearn/lib/python3.7/site-packages/scipy/optimize/lbfgsb.py:329: DeprecationWarning: tostring() is deprecated. Use tobytes() instead.\n",
      "  task_str = task.tostring()\n",
      "/Users/juliana/opt/anaconda3/envs/imblearn/lib/python3.7/site-packages/scipy/optimize/lbfgsb.py:329: DeprecationWarning: tostring() is deprecated. Use tobytes() instead.\n",
      "  task_str = task.tostring()\n",
      "/Users/juliana/opt/anaconda3/envs/imblearn/lib/python3.7/site-packages/scipy/optimize/lbfgsb.py:329: DeprecationWarning: tostring() is deprecated. Use tobytes() instead.\n",
      "  task_str = task.tostring()\n",
      "/Users/juliana/opt/anaconda3/envs/imblearn/lib/python3.7/site-packages/scipy/optimize/lbfgsb.py:329: DeprecationWarning: tostring() is deprecated. Use tobytes() instead.\n",
      "  task_str = task.tostring()\n",
      "/Users/juliana/opt/anaconda3/envs/imblearn/lib/python3.7/site-packages/scipy/optimize/lbfgsb.py:329: DeprecationWarning: tostring() is deprecated. Use tobytes() instead.\n",
      "  task_str = task.tostring()\n",
      "/Users/juliana/opt/anaconda3/envs/imblearn/lib/python3.7/site-packages/scipy/optimize/lbfgsb.py:329: DeprecationWarning: tostring() is deprecated. Use tobytes() instead.\n",
      "  task_str = task.tostring()\n",
      "/Users/juliana/opt/anaconda3/envs/imblearn/lib/python3.7/site-packages/scipy/optimize/lbfgsb.py:329: DeprecationWarning: tostring() is deprecated. Use tobytes() instead.\n",
      "  task_str = task.tostring()\n",
      "/Users/juliana/opt/anaconda3/envs/imblearn/lib/python3.7/site-packages/scipy/optimize/lbfgsb.py:329: DeprecationWarning: tostring() is deprecated. Use tobytes() instead.\n",
      "  task_str = task.tostring()\n",
      "/Users/juliana/opt/anaconda3/envs/imblearn/lib/python3.7/site-packages/scipy/optimize/lbfgsb.py:329: DeprecationWarning: tostring() is deprecated. Use tobytes() instead.\n",
      "  task_str = task.tostring()\n",
      "/Users/juliana/opt/anaconda3/envs/imblearn/lib/python3.7/site-packages/scipy/optimize/lbfgsb.py:329: DeprecationWarning: tostring() is deprecated. Use tobytes() instead.\n",
      "  task_str = task.tostring()\n",
      "/Users/juliana/opt/anaconda3/envs/imblearn/lib/python3.7/site-packages/scipy/optimize/lbfgsb.py:329: DeprecationWarning: tostring() is deprecated. Use tobytes() instead.\n",
      "  task_str = task.tostring()\n",
      "/Users/juliana/opt/anaconda3/envs/imblearn/lib/python3.7/site-packages/scipy/optimize/lbfgsb.py:329: DeprecationWarning: tostring() is deprecated. Use tobytes() instead.\n",
      "  task_str = task.tostring()\n",
      "/Users/juliana/opt/anaconda3/envs/imblearn/lib/python3.7/site-packages/scipy/optimize/lbfgsb.py:329: DeprecationWarning: tostring() is deprecated. Use tobytes() instead.\n",
      "  task_str = task.tostring()\n",
      "/Users/juliana/opt/anaconda3/envs/imblearn/lib/python3.7/site-packages/scipy/optimize/lbfgsb.py:329: DeprecationWarning: tostring() is deprecated. Use tobytes() instead.\n",
      "  task_str = task.tostring()\n",
      "/Users/juliana/opt/anaconda3/envs/imblearn/lib/python3.7/site-packages/scipy/optimize/lbfgsb.py:329: DeprecationWarning: tostring() is deprecated. Use tobytes() instead.\n",
      "  task_str = task.tostring()\n",
      "/Users/juliana/opt/anaconda3/envs/imblearn/lib/python3.7/site-packages/scipy/optimize/lbfgsb.py:329: DeprecationWarning: tostring() is deprecated. Use tobytes() instead.\n",
      "  task_str = task.tostring()\n",
      "/Users/juliana/opt/anaconda3/envs/imblearn/lib/python3.7/site-packages/scipy/optimize/lbfgsb.py:329: DeprecationWarning: tostring() is deprecated. Use tobytes() instead.\n",
      "  task_str = task.tostring()\n",
      "/Users/juliana/opt/anaconda3/envs/imblearn/lib/python3.7/site-packages/scipy/optimize/lbfgsb.py:329: DeprecationWarning: tostring() is deprecated. Use tobytes() instead.\n",
      "  task_str = task.tostring()\n",
      "/Users/juliana/opt/anaconda3/envs/imblearn/lib/python3.7/site-packages/scipy/optimize/lbfgsb.py:329: DeprecationWarning: tostring() is deprecated. Use tobytes() instead.\n",
      "  task_str = task.tostring()\n",
      "/Users/juliana/opt/anaconda3/envs/imblearn/lib/python3.7/site-packages/scipy/optimize/lbfgsb.py:329: DeprecationWarning: tostring() is deprecated. Use tobytes() instead.\n",
      "  task_str = task.tostring()\n",
      "/Users/juliana/opt/anaconda3/envs/imblearn/lib/python3.7/site-packages/scipy/optimize/lbfgsb.py:329: DeprecationWarning: tostring() is deprecated. Use tobytes() instead.\n",
      "  task_str = task.tostring()\n",
      "/Users/juliana/opt/anaconda3/envs/imblearn/lib/python3.7/site-packages/scipy/optimize/lbfgsb.py:329: DeprecationWarning: tostring() is deprecated. Use tobytes() instead.\n",
      "  task_str = task.tostring()\n",
      "/Users/juliana/opt/anaconda3/envs/imblearn/lib/python3.7/site-packages/scipy/optimize/lbfgsb.py:329: DeprecationWarning: tostring() is deprecated. Use tobytes() instead.\n",
      "  task_str = task.tostring()\n",
      "/Users/juliana/opt/anaconda3/envs/imblearn/lib/python3.7/site-packages/scipy/optimize/lbfgsb.py:329: DeprecationWarning: tostring() is deprecated. Use tobytes() instead.\n",
      "  task_str = task.tostring()\n",
      "/Users/juliana/opt/anaconda3/envs/imblearn/lib/python3.7/site-packages/scipy/optimize/lbfgsb.py:329: DeprecationWarning: tostring() is deprecated. Use tobytes() instead.\n",
      "  task_str = task.tostring()\n",
      "/Users/juliana/opt/anaconda3/envs/imblearn/lib/python3.7/site-packages/scipy/optimize/lbfgsb.py:329: DeprecationWarning: tostring() is deprecated. Use tobytes() instead.\n",
      "  task_str = task.tostring()\n",
      "/Users/juliana/opt/anaconda3/envs/imblearn/lib/python3.7/site-packages/scipy/optimize/lbfgsb.py:329: DeprecationWarning: tostring() is deprecated. Use tobytes() instead.\n",
      "  task_str = task.tostring()\n",
      "/Users/juliana/opt/anaconda3/envs/imblearn/lib/python3.7/site-packages/scipy/optimize/lbfgsb.py:329: DeprecationWarning: tostring() is deprecated. Use tobytes() instead.\n",
      "  task_str = task.tostring()\n",
      "/Users/juliana/opt/anaconda3/envs/imblearn/lib/python3.7/site-packages/scipy/optimize/lbfgsb.py:329: DeprecationWarning: tostring() is deprecated. Use tobytes() instead.\n",
      "  task_str = task.tostring()\n",
      "/Users/juliana/opt/anaconda3/envs/imblearn/lib/python3.7/site-packages/scipy/optimize/lbfgsb.py:329: DeprecationWarning: tostring() is deprecated. Use tobytes() instead.\n",
      "  task_str = task.tostring()\n",
      "/Users/juliana/opt/anaconda3/envs/imblearn/lib/python3.7/site-packages/scipy/optimize/lbfgsb.py:329: DeprecationWarning: tostring() is deprecated. Use tobytes() instead.\n",
      "  task_str = task.tostring()\n",
      "/Users/juliana/opt/anaconda3/envs/imblearn/lib/python3.7/site-packages/scipy/optimize/lbfgsb.py:329: DeprecationWarning: tostring() is deprecated. Use tobytes() instead.\n",
      "  task_str = task.tostring()\n",
      "/Users/juliana/opt/anaconda3/envs/imblearn/lib/python3.7/site-packages/scipy/optimize/lbfgsb.py:329: DeprecationWarning: tostring() is deprecated. Use tobytes() instead.\n",
      "  task_str = task.tostring()\n",
      "/Users/juliana/opt/anaconda3/envs/imblearn/lib/python3.7/site-packages/scipy/optimize/lbfgsb.py:329: DeprecationWarning: tostring() is deprecated. Use tobytes() instead.\n",
      "  task_str = task.tostring()\n",
      "/Users/juliana/opt/anaconda3/envs/imblearn/lib/python3.7/site-packages/scipy/optimize/lbfgsb.py:329: DeprecationWarning: tostring() is deprecated. Use tobytes() instead.\n",
      "  task_str = task.tostring()\n",
      "/Users/juliana/opt/anaconda3/envs/imblearn/lib/python3.7/site-packages/scipy/optimize/lbfgsb.py:329: DeprecationWarning: tostring() is deprecated. Use tobytes() instead.\n",
      "  task_str = task.tostring()\n",
      "/Users/juliana/opt/anaconda3/envs/imblearn/lib/python3.7/site-packages/scipy/optimize/lbfgsb.py:329: DeprecationWarning: tostring() is deprecated. Use tobytes() instead.\n",
      "  task_str = task.tostring()\n",
      "/Users/juliana/opt/anaconda3/envs/imblearn/lib/python3.7/site-packages/scipy/optimize/lbfgsb.py:329: DeprecationWarning: tostring() is deprecated. Use tobytes() instead.\n",
      "  task_str = task.tostring()\n",
      "/Users/juliana/opt/anaconda3/envs/imblearn/lib/python3.7/site-packages/scipy/optimize/lbfgsb.py:329: DeprecationWarning: tostring() is deprecated. Use tobytes() instead.\n",
      "  task_str = task.tostring()\n",
      "/Users/juliana/opt/anaconda3/envs/imblearn/lib/python3.7/site-packages/scipy/optimize/lbfgsb.py:329: DeprecationWarning: tostring() is deprecated. Use tobytes() instead.\n",
      "  task_str = task.tostring()\n",
      "/Users/juliana/opt/anaconda3/envs/imblearn/lib/python3.7/site-packages/scipy/optimize/lbfgsb.py:329: DeprecationWarning: tostring() is deprecated. Use tobytes() instead.\n",
      "  task_str = task.tostring()\n",
      "/Users/juliana/opt/anaconda3/envs/imblearn/lib/python3.7/site-packages/scipy/optimize/lbfgsb.py:329: DeprecationWarning: tostring() is deprecated. Use tobytes() instead.\n",
      "  task_str = task.tostring()\n",
      "/Users/juliana/opt/anaconda3/envs/imblearn/lib/python3.7/site-packages/scipy/optimize/lbfgsb.py:329: DeprecationWarning: tostring() is deprecated. Use tobytes() instead.\n",
      "  task_str = task.tostring()\n",
      "/Users/juliana/opt/anaconda3/envs/imblearn/lib/python3.7/site-packages/scipy/optimize/lbfgsb.py:329: DeprecationWarning: tostring() is deprecated. Use tobytes() instead.\n",
      "  task_str = task.tostring()\n",
      "/Users/juliana/opt/anaconda3/envs/imblearn/lib/python3.7/site-packages/scipy/optimize/lbfgsb.py:329: DeprecationWarning: tostring() is deprecated. Use tobytes() instead.\n",
      "  task_str = task.tostring()\n",
      "/Users/juliana/opt/anaconda3/envs/imblearn/lib/python3.7/site-packages/scipy/optimize/lbfgsb.py:329: DeprecationWarning: tostring() is deprecated. Use tobytes() instead.\n",
      "  task_str = task.tostring()\n",
      "/Users/juliana/opt/anaconda3/envs/imblearn/lib/python3.7/site-packages/scipy/optimize/lbfgsb.py:329: DeprecationWarning: tostring() is deprecated. Use tobytes() instead.\n",
      "  task_str = task.tostring()\n",
      "/Users/juliana/opt/anaconda3/envs/imblearn/lib/python3.7/site-packages/scipy/optimize/lbfgsb.py:329: DeprecationWarning: tostring() is deprecated. Use tobytes() instead.\n",
      "  task_str = task.tostring()\n",
      "/Users/juliana/opt/anaconda3/envs/imblearn/lib/python3.7/site-packages/scipy/optimize/lbfgsb.py:329: DeprecationWarning: tostring() is deprecated. Use tobytes() instead.\n",
      "  task_str = task.tostring()\n",
      "/Users/juliana/opt/anaconda3/envs/imblearn/lib/python3.7/site-packages/scipy/optimize/lbfgsb.py:329: DeprecationWarning: tostring() is deprecated. Use tobytes() instead.\n",
      "  task_str = task.tostring()\n",
      "/Users/juliana/opt/anaconda3/envs/imblearn/lib/python3.7/site-packages/scipy/optimize/lbfgsb.py:329: DeprecationWarning: tostring() is deprecated. Use tobytes() instead.\n",
      "  task_str = task.tostring()\n",
      "/Users/juliana/opt/anaconda3/envs/imblearn/lib/python3.7/site-packages/scipy/optimize/lbfgsb.py:329: DeprecationWarning: tostring() is deprecated. Use tobytes() instead.\n",
      "  task_str = task.tostring()\n",
      "/Users/juliana/opt/anaconda3/envs/imblearn/lib/python3.7/site-packages/scipy/optimize/lbfgsb.py:329: DeprecationWarning: tostring() is deprecated. Use tobytes() instead.\n",
      "  task_str = task.tostring()\n",
      "/Users/juliana/opt/anaconda3/envs/imblearn/lib/python3.7/site-packages/scipy/optimize/lbfgsb.py:329: DeprecationWarning: tostring() is deprecated. Use tobytes() instead.\n",
      "  task_str = task.tostring()\n",
      "/Users/juliana/opt/anaconda3/envs/imblearn/lib/python3.7/site-packages/scipy/optimize/lbfgsb.py:329: DeprecationWarning: tostring() is deprecated. Use tobytes() instead.\n",
      "  task_str = task.tostring()\n",
      "/Users/juliana/opt/anaconda3/envs/imblearn/lib/python3.7/site-packages/scipy/optimize/lbfgsb.py:329: DeprecationWarning: tostring() is deprecated. Use tobytes() instead.\n",
      "  task_str = task.tostring()\n",
      "/Users/juliana/opt/anaconda3/envs/imblearn/lib/python3.7/site-packages/scipy/optimize/lbfgsb.py:329: DeprecationWarning: tostring() is deprecated. Use tobytes() instead.\n",
      "  task_str = task.tostring()\n",
      "/Users/juliana/opt/anaconda3/envs/imblearn/lib/python3.7/site-packages/scipy/optimize/lbfgsb.py:350: DeprecationWarning: tostring() is deprecated. Use tobytes() instead.\n",
      "  task_str = task.tostring().strip(b'\\x00').strip()\n",
      "/Users/juliana/opt/anaconda3/envs/imblearn/lib/python3.7/site-packages/sklearn/linear_model/_logistic.py:939: ConvergenceWarning: lbfgs failed to converge (status=1):\n",
      "STOP: TOTAL NO. of ITERATIONS REACHED LIMIT.\n",
      "\n",
      "Increase the number of iterations (max_iter) or scale the data as shown in:\n",
      "    https://scikit-learn.org/stable/modules/preprocessing.html.\n",
      "Please also refer to the documentation for alternative solver options:\n",
      "    https://scikit-learn.org/stable/modules/linear_model.html#logistic-regression\n",
      "  extra_warning_msg=_LOGISTIC_SOLVER_CONVERGENCE_MSG)\n"
     ]
    },
    {
     "name": "stdout",
     "output_type": "stream",
     "text": [
      "Validation Result:\n",
      "\n",
      "accuracy score: 0.9433\n",
      "\n"
     ]
    },
    {
     "data": {
      "image/png": "[encoded data removed]",
      "text/plain": [
       "<Figure size 576x396 with 1 Axes>"
      ]
     },
     "metadata": {},
     "output_type": "display_data"
    },
    {
     "name": "stdout",
     "output_type": "stream",
     "text": [
      "roc auc score: 0.5\n",
      "\n"
     ]
    },
    {
     "data": {
      "image/png": "[encoded data removed]",
      "text/plain": [
       "<Figure size 576x396 with 1 Axes>"
      ]
     },
     "metadata": {},
     "output_type": "display_data"
    },
    {
     "name": "stderr",
     "output_type": "stream",
     "text": [
      "/Users/juliana/opt/anaconda3/envs/imblearn/lib/python3.7/site-packages/sklearn/metrics/_classification.py:1268: UndefinedMetricWarning: Precision and F-score are ill-defined and being set to 0.0 in labels with no predicted samples. Use `zero_division` parameter to control this behavior.\n",
      "  _warn_prf(average, modifier, msg_start, len(result))\n"
     ]
    },
    {
     "name": "stdout",
     "output_type": "stream",
     "text": [
      "Classification Report: \n",
      "               precision    recall  f1-score   support\n",
      "\n",
      "           0       0.94      1.00      0.97      1514\n",
      "           1       0.00      0.00      0.00        91\n",
      "\n",
      "    accuracy                           0.94      1605\n",
      "   macro avg       0.47      0.50      0.49      1605\n",
      "weighted avg       0.89      0.94      0.92      1605\n",
      "\n",
      "\n",
      "Confusion Matrix: \n",
      " [[1514    0]\n",
      " [  91    0]]\n",
      "\n",
      "End of validation Result\n",
      "\n"
     ]
    },
    {
     "data": {
      "image/png": "[encoded data removed]",
      "text/plain": [
       "<Figure size 576x396 with 2 Axes>"
      ]
     },
     "metadata": {},
     "output_type": "display_data"
    }
   ],
   "source": [
    "from sklearn.linear_model import LogisticRegression\n",
    "clf_log_reg_imbalanced = LogisticRegression(random_state=0)\n",
    "clf_log_reg_imbalanced.fit(X_train, y_train)\n",
    "clf_score(clf_log_reg_imbalanced, X_train, y_train, X_val, y_val, train=False)"
   ]
  },
  {
   "cell_type": "markdown",
   "id": "476c9319",
   "metadata": {},
   "source": [
    "#### Created an oversampled training data using SMOTE\n",
    "* From the result of the model trained with the oversampled data, we can see that the model doing better at predicted Fraud class (1), as the precision, recall and f1-score increased.  As the oversampled data helps the logistic regression model to predict the results better"
   ]
  },
  {
   "cell_type": "code",
   "execution_count": 16,
   "id": "c66fca66",
   "metadata": {},
   "outputs": [
    {
     "name": "stderr",
     "output_type": "stream",
     "text": [
      "/Users/juliana/opt/anaconda3/envs/imblearn/lib/python3.7/site-packages/sklearn/utils/validation.py:744: DataConversionWarning: A column-vector y was passed when a 1d array was expected. Please change the shape of y to (n_samples, ), for example using ravel().\n",
      "  y = column_or_1d(y, warn=True)\n",
      "/Users/juliana/opt/anaconda3/envs/imblearn/lib/python3.7/site-packages/sklearn/utils/validation.py:744: DataConversionWarning: A column-vector y was passed when a 1d array was expected. Please change the shape of y to (n_samples, ), for example using ravel().\n",
      "  y = column_or_1d(y, warn=True)\n",
      "/Users/juliana/opt/anaconda3/envs/imblearn/lib/python3.7/site-packages/sklearn/utils/validation.py:933: FutureWarning: Passing attributes to check_is_fitted is deprecated and will be removed in 0.23. The attributes argument is ignored.\n",
      "  \"argument is ignored.\", FutureWarning)\n",
      "/Users/juliana/opt/anaconda3/envs/imblearn/lib/python3.7/site-packages/sklearn/utils/deprecation.py:87: FutureWarning: Function safe_indexing is deprecated; safe_indexing is deprecated in version 0.22 and will be removed in version 0.24.\n",
      "  warnings.warn(msg, category=FutureWarning)\n"
     ]
    }
   ],
   "source": [
    "sm = SMOTE(random_state=0)\n",
    "X_train_sm, y_train_sm = sm.fit_sample(X_train, y_train)"
   ]
  },
  {
   "cell_type": "code",
   "execution_count": 21,
   "id": "4ef5b68b",
   "metadata": {},
   "outputs": [
    {
     "name": "stderr",
     "output_type": "stream",
     "text": [
      "/Users/juliana/opt/anaconda3/envs/imblearn/lib/python3.7/site-packages/scipy/optimize/lbfgsb.py:329: DeprecationWarning: tostring() is deprecated. Use tobytes() instead.\n",
      "  task_str = task.tostring()\n",
      "/Users/juliana/opt/anaconda3/envs/imblearn/lib/python3.7/site-packages/scipy/optimize/lbfgsb.py:329: DeprecationWarning: tostring() is deprecated. Use tobytes() instead.\n",
      "  task_str = task.tostring()\n",
      "/Users/juliana/opt/anaconda3/envs/imblearn/lib/python3.7/site-packages/scipy/optimize/lbfgsb.py:329: DeprecationWarning: tostring() is deprecated. Use tobytes() instead.\n",
      "  task_str = task.tostring()\n",
      "/Users/juliana/opt/anaconda3/envs/imblearn/lib/python3.7/site-packages/scipy/optimize/lbfgsb.py:329: DeprecationWarning: tostring() is deprecated. Use tobytes() instead.\n",
      "  task_str = task.tostring()\n",
      "/Users/juliana/opt/anaconda3/envs/imblearn/lib/python3.7/site-packages/scipy/optimize/lbfgsb.py:329: DeprecationWarning: tostring() is deprecated. Use tobytes() instead.\n",
      "  task_str = task.tostring()\n",
      "/Users/juliana/opt/anaconda3/envs/imblearn/lib/python3.7/site-packages/scipy/optimize/lbfgsb.py:329: DeprecationWarning: tostring() is deprecated. Use tobytes() instead.\n",
      "  task_str = task.tostring()\n",
      "/Users/juliana/opt/anaconda3/envs/imblearn/lib/python3.7/site-packages/scipy/optimize/lbfgsb.py:329: DeprecationWarning: tostring() is deprecated. Use tobytes() instead.\n",
      "  task_str = task.tostring()\n",
      "/Users/juliana/opt/anaconda3/envs/imblearn/lib/python3.7/site-packages/scipy/optimize/lbfgsb.py:329: DeprecationWarning: tostring() is deprecated. Use tobytes() instead.\n",
      "  task_str = task.tostring()\n",
      "/Users/juliana/opt/anaconda3/envs/imblearn/lib/python3.7/site-packages/scipy/optimize/lbfgsb.py:329: DeprecationWarning: tostring() is deprecated. Use tobytes() instead.\n",
      "  task_str = task.tostring()\n",
      "/Users/juliana/opt/anaconda3/envs/imblearn/lib/python3.7/site-packages/scipy/optimize/lbfgsb.py:329: DeprecationWarning: tostring() is deprecated. Use tobytes() instead.\n",
      "  task_str = task.tostring()\n",
      "/Users/juliana/opt/anaconda3/envs/imblearn/lib/python3.7/site-packages/scipy/optimize/lbfgsb.py:329: DeprecationWarning: tostring() is deprecated. Use tobytes() instead.\n",
      "  task_str = task.tostring()\n",
      "/Users/juliana/opt/anaconda3/envs/imblearn/lib/python3.7/site-packages/scipy/optimize/lbfgsb.py:329: DeprecationWarning: tostring() is deprecated. Use tobytes() instead.\n",
      "  task_str = task.tostring()\n",
      "/Users/juliana/opt/anaconda3/envs/imblearn/lib/python3.7/site-packages/scipy/optimize/lbfgsb.py:329: DeprecationWarning: tostring() is deprecated. Use tobytes() instead.\n",
      "  task_str = task.tostring()\n",
      "/Users/juliana/opt/anaconda3/envs/imblearn/lib/python3.7/site-packages/scipy/optimize/lbfgsb.py:329: DeprecationWarning: tostring() is deprecated. Use tobytes() instead.\n",
      "  task_str = task.tostring()\n",
      "/Users/juliana/opt/anaconda3/envs/imblearn/lib/python3.7/site-packages/scipy/optimize/lbfgsb.py:329: DeprecationWarning: tostring() is deprecated. Use tobytes() instead.\n",
      "  task_str = task.tostring()\n",
      "/Users/juliana/opt/anaconda3/envs/imblearn/lib/python3.7/site-packages/scipy/optimize/lbfgsb.py:329: DeprecationWarning: tostring() is deprecated. Use tobytes() instead.\n",
      "  task_str = task.tostring()\n",
      "/Users/juliana/opt/anaconda3/envs/imblearn/lib/python3.7/site-packages/scipy/optimize/lbfgsb.py:329: DeprecationWarning: tostring() is deprecated. Use tobytes() instead.\n",
      "  task_str = task.tostring()\n",
      "/Users/juliana/opt/anaconda3/envs/imblearn/lib/python3.7/site-packages/scipy/optimize/lbfgsb.py:329: DeprecationWarning: tostring() is deprecated. Use tobytes() instead.\n",
      "  task_str = task.tostring()\n",
      "/Users/juliana/opt/anaconda3/envs/imblearn/lib/python3.7/site-packages/scipy/optimize/lbfgsb.py:329: DeprecationWarning: tostring() is deprecated. Use tobytes() instead.\n",
      "  task_str = task.tostring()\n",
      "/Users/juliana/opt/anaconda3/envs/imblearn/lib/python3.7/site-packages/scipy/optimize/lbfgsb.py:329: DeprecationWarning: tostring() is deprecated. Use tobytes() instead.\n",
      "  task_str = task.tostring()\n",
      "/Users/juliana/opt/anaconda3/envs/imblearn/lib/python3.7/site-packages/scipy/optimize/lbfgsb.py:329: DeprecationWarning: tostring() is deprecated. Use tobytes() instead.\n",
      "  task_str = task.tostring()\n",
      "/Users/juliana/opt/anaconda3/envs/imblearn/lib/python3.7/site-packages/scipy/optimize/lbfgsb.py:329: DeprecationWarning: tostring() is deprecated. Use tobytes() instead.\n",
      "  task_str = task.tostring()\n",
      "/Users/juliana/opt/anaconda3/envs/imblearn/lib/python3.7/site-packages/scipy/optimize/lbfgsb.py:329: DeprecationWarning: tostring() is deprecated. Use tobytes() instead.\n",
      "  task_str = task.tostring()\n",
      "/Users/juliana/opt/anaconda3/envs/imblearn/lib/python3.7/site-packages/scipy/optimize/lbfgsb.py:329: DeprecationWarning: tostring() is deprecated. Use tobytes() instead.\n",
      "  task_str = task.tostring()\n",
      "/Users/juliana/opt/anaconda3/envs/imblearn/lib/python3.7/site-packages/scipy/optimize/lbfgsb.py:329: DeprecationWarning: tostring() is deprecated. Use tobytes() instead.\n",
      "  task_str = task.tostring()\n",
      "/Users/juliana/opt/anaconda3/envs/imblearn/lib/python3.7/site-packages/scipy/optimize/lbfgsb.py:329: DeprecationWarning: tostring() is deprecated. Use tobytes() instead.\n",
      "  task_str = task.tostring()\n",
      "/Users/juliana/opt/anaconda3/envs/imblearn/lib/python3.7/site-packages/scipy/optimize/lbfgsb.py:329: DeprecationWarning: tostring() is deprecated. Use tobytes() instead.\n",
      "  task_str = task.tostring()\n",
      "/Users/juliana/opt/anaconda3/envs/imblearn/lib/python3.7/site-packages/scipy/optimize/lbfgsb.py:329: DeprecationWarning: tostring() is deprecated. Use tobytes() instead.\n",
      "  task_str = task.tostring()\n",
      "/Users/juliana/opt/anaconda3/envs/imblearn/lib/python3.7/site-packages/scipy/optimize/lbfgsb.py:329: DeprecationWarning: tostring() is deprecated. Use tobytes() instead.\n",
      "  task_str = task.tostring()\n",
      "/Users/juliana/opt/anaconda3/envs/imblearn/lib/python3.7/site-packages/scipy/optimize/lbfgsb.py:329: DeprecationWarning: tostring() is deprecated. Use tobytes() instead.\n",
      "  task_str = task.tostring()\n",
      "/Users/juliana/opt/anaconda3/envs/imblearn/lib/python3.7/site-packages/scipy/optimize/lbfgsb.py:329: DeprecationWarning: tostring() is deprecated. Use tobytes() instead.\n",
      "  task_str = task.tostring()\n",
      "/Users/juliana/opt/anaconda3/envs/imblearn/lib/python3.7/site-packages/scipy/optimize/lbfgsb.py:329: DeprecationWarning: tostring() is deprecated. Use tobytes() instead.\n",
      "  task_str = task.tostring()\n",
      "/Users/juliana/opt/anaconda3/envs/imblearn/lib/python3.7/site-packages/scipy/optimize/lbfgsb.py:329: DeprecationWarning: tostring() is deprecated. Use tobytes() instead.\n",
      "  task_str = task.tostring()\n",
      "/Users/juliana/opt/anaconda3/envs/imblearn/lib/python3.7/site-packages/scipy/optimize/lbfgsb.py:329: DeprecationWarning: tostring() is deprecated. Use tobytes() instead.\n",
      "  task_str = task.tostring()\n",
      "/Users/juliana/opt/anaconda3/envs/imblearn/lib/python3.7/site-packages/scipy/optimize/lbfgsb.py:329: DeprecationWarning: tostring() is deprecated. Use tobytes() instead.\n",
      "  task_str = task.tostring()\n",
      "/Users/juliana/opt/anaconda3/envs/imblearn/lib/python3.7/site-packages/scipy/optimize/lbfgsb.py:329: DeprecationWarning: tostring() is deprecated. Use tobytes() instead.\n",
      "  task_str = task.tostring()\n",
      "/Users/juliana/opt/anaconda3/envs/imblearn/lib/python3.7/site-packages/scipy/optimize/lbfgsb.py:329: DeprecationWarning: tostring() is deprecated. Use tobytes() instead.\n",
      "  task_str = task.tostring()\n",
      "/Users/juliana/opt/anaconda3/envs/imblearn/lib/python3.7/site-packages/scipy/optimize/lbfgsb.py:329: DeprecationWarning: tostring() is deprecated. Use tobytes() instead.\n",
      "  task_str = task.tostring()\n",
      "/Users/juliana/opt/anaconda3/envs/imblearn/lib/python3.7/site-packages/scipy/optimize/lbfgsb.py:329: DeprecationWarning: tostring() is deprecated. Use tobytes() instead.\n",
      "  task_str = task.tostring()\n",
      "/Users/juliana/opt/anaconda3/envs/imblearn/lib/python3.7/site-packages/scipy/optimize/lbfgsb.py:329: DeprecationWarning: tostring() is deprecated. Use tobytes() instead.\n",
      "  task_str = task.tostring()\n",
      "/Users/juliana/opt/anaconda3/envs/imblearn/lib/python3.7/site-packages/scipy/optimize/lbfgsb.py:329: DeprecationWarning: tostring() is deprecated. Use tobytes() instead.\n",
      "  task_str = task.tostring()\n",
      "/Users/juliana/opt/anaconda3/envs/imblearn/lib/python3.7/site-packages/scipy/optimize/lbfgsb.py:329: DeprecationWarning: tostring() is deprecated. Use tobytes() instead.\n",
      "  task_str = task.tostring()\n",
      "/Users/juliana/opt/anaconda3/envs/imblearn/lib/python3.7/site-packages/scipy/optimize/lbfgsb.py:329: DeprecationWarning: tostring() is deprecated. Use tobytes() instead.\n",
      "  task_str = task.tostring()\n",
      "/Users/juliana/opt/anaconda3/envs/imblearn/lib/python3.7/site-packages/scipy/optimize/lbfgsb.py:329: DeprecationWarning: tostring() is deprecated. Use tobytes() instead.\n",
      "  task_str = task.tostring()\n",
      "/Users/juliana/opt/anaconda3/envs/imblearn/lib/python3.7/site-packages/scipy/optimize/lbfgsb.py:329: DeprecationWarning: tostring() is deprecated. Use tobytes() instead.\n",
      "  task_str = task.tostring()\n",
      "/Users/juliana/opt/anaconda3/envs/imblearn/lib/python3.7/site-packages/scipy/optimize/lbfgsb.py:329: DeprecationWarning: tostring() is deprecated. Use tobytes() instead.\n",
      "  task_str = task.tostring()\n",
      "/Users/juliana/opt/anaconda3/envs/imblearn/lib/python3.7/site-packages/scipy/optimize/lbfgsb.py:329: DeprecationWarning: tostring() is deprecated. Use tobytes() instead.\n",
      "  task_str = task.tostring()\n",
      "/Users/juliana/opt/anaconda3/envs/imblearn/lib/python3.7/site-packages/scipy/optimize/lbfgsb.py:329: DeprecationWarning: tostring() is deprecated. Use tobytes() instead.\n",
      "  task_str = task.tostring()\n",
      "/Users/juliana/opt/anaconda3/envs/imblearn/lib/python3.7/site-packages/scipy/optimize/lbfgsb.py:329: DeprecationWarning: tostring() is deprecated. Use tobytes() instead.\n",
      "  task_str = task.tostring()\n",
      "/Users/juliana/opt/anaconda3/envs/imblearn/lib/python3.7/site-packages/scipy/optimize/lbfgsb.py:329: DeprecationWarning: tostring() is deprecated. Use tobytes() instead.\n",
      "  task_str = task.tostring()\n",
      "/Users/juliana/opt/anaconda3/envs/imblearn/lib/python3.7/site-packages/scipy/optimize/lbfgsb.py:329: DeprecationWarning: tostring() is deprecated. Use tobytes() instead.\n",
      "  task_str = task.tostring()\n",
      "/Users/juliana/opt/anaconda3/envs/imblearn/lib/python3.7/site-packages/scipy/optimize/lbfgsb.py:329: DeprecationWarning: tostring() is deprecated. Use tobytes() instead.\n",
      "  task_str = task.tostring()\n",
      "/Users/juliana/opt/anaconda3/envs/imblearn/lib/python3.7/site-packages/scipy/optimize/lbfgsb.py:329: DeprecationWarning: tostring() is deprecated. Use tobytes() instead.\n",
      "  task_str = task.tostring()\n",
      "/Users/juliana/opt/anaconda3/envs/imblearn/lib/python3.7/site-packages/scipy/optimize/lbfgsb.py:329: DeprecationWarning: tostring() is deprecated. Use tobytes() instead.\n",
      "  task_str = task.tostring()\n",
      "/Users/juliana/opt/anaconda3/envs/imblearn/lib/python3.7/site-packages/scipy/optimize/lbfgsb.py:329: DeprecationWarning: tostring() is deprecated. Use tobytes() instead.\n",
      "  task_str = task.tostring()\n",
      "/Users/juliana/opt/anaconda3/envs/imblearn/lib/python3.7/site-packages/scipy/optimize/lbfgsb.py:329: DeprecationWarning: tostring() is deprecated. Use tobytes() instead.\n",
      "  task_str = task.tostring()\n",
      "/Users/juliana/opt/anaconda3/envs/imblearn/lib/python3.7/site-packages/scipy/optimize/lbfgsb.py:329: DeprecationWarning: tostring() is deprecated. Use tobytes() instead.\n",
      "  task_str = task.tostring()\n",
      "/Users/juliana/opt/anaconda3/envs/imblearn/lib/python3.7/site-packages/scipy/optimize/lbfgsb.py:329: DeprecationWarning: tostring() is deprecated. Use tobytes() instead.\n",
      "  task_str = task.tostring()\n",
      "/Users/juliana/opt/anaconda3/envs/imblearn/lib/python3.7/site-packages/scipy/optimize/lbfgsb.py:329: DeprecationWarning: tostring() is deprecated. Use tobytes() instead.\n",
      "  task_str = task.tostring()\n",
      "/Users/juliana/opt/anaconda3/envs/imblearn/lib/python3.7/site-packages/scipy/optimize/lbfgsb.py:329: DeprecationWarning: tostring() is deprecated. Use tobytes() instead.\n",
      "  task_str = task.tostring()\n",
      "/Users/juliana/opt/anaconda3/envs/imblearn/lib/python3.7/site-packages/scipy/optimize/lbfgsb.py:329: DeprecationWarning: tostring() is deprecated. Use tobytes() instead.\n",
      "  task_str = task.tostring()\n",
      "/Users/juliana/opt/anaconda3/envs/imblearn/lib/python3.7/site-packages/scipy/optimize/lbfgsb.py:329: DeprecationWarning: tostring() is deprecated. Use tobytes() instead.\n",
      "  task_str = task.tostring()\n",
      "/Users/juliana/opt/anaconda3/envs/imblearn/lib/python3.7/site-packages/scipy/optimize/lbfgsb.py:329: DeprecationWarning: tostring() is deprecated. Use tobytes() instead.\n",
      "  task_str = task.tostring()\n",
      "/Users/juliana/opt/anaconda3/envs/imblearn/lib/python3.7/site-packages/scipy/optimize/lbfgsb.py:329: DeprecationWarning: tostring() is deprecated. Use tobytes() instead.\n",
      "  task_str = task.tostring()\n",
      "/Users/juliana/opt/anaconda3/envs/imblearn/lib/python3.7/site-packages/scipy/optimize/lbfgsb.py:329: DeprecationWarning: tostring() is deprecated. Use tobytes() instead.\n",
      "  task_str = task.tostring()\n",
      "/Users/juliana/opt/anaconda3/envs/imblearn/lib/python3.7/site-packages/scipy/optimize/lbfgsb.py:329: DeprecationWarning: tostring() is deprecated. Use tobytes() instead.\n",
      "  task_str = task.tostring()\n",
      "/Users/juliana/opt/anaconda3/envs/imblearn/lib/python3.7/site-packages/scipy/optimize/lbfgsb.py:329: DeprecationWarning: tostring() is deprecated. Use tobytes() instead.\n",
      "  task_str = task.tostring()\n",
      "/Users/juliana/opt/anaconda3/envs/imblearn/lib/python3.7/site-packages/scipy/optimize/lbfgsb.py:329: DeprecationWarning: tostring() is deprecated. Use tobytes() instead.\n",
      "  task_str = task.tostring()\n",
      "/Users/juliana/opt/anaconda3/envs/imblearn/lib/python3.7/site-packages/scipy/optimize/lbfgsb.py:329: DeprecationWarning: tostring() is deprecated. Use tobytes() instead.\n",
      "  task_str = task.tostring()\n",
      "/Users/juliana/opt/anaconda3/envs/imblearn/lib/python3.7/site-packages/scipy/optimize/lbfgsb.py:329: DeprecationWarning: tostring() is deprecated. Use tobytes() instead.\n",
      "  task_str = task.tostring()\n",
      "/Users/juliana/opt/anaconda3/envs/imblearn/lib/python3.7/site-packages/scipy/optimize/lbfgsb.py:329: DeprecationWarning: tostring() is deprecated. Use tobytes() instead.\n",
      "  task_str = task.tostring()\n",
      "/Users/juliana/opt/anaconda3/envs/imblearn/lib/python3.7/site-packages/scipy/optimize/lbfgsb.py:329: DeprecationWarning: tostring() is deprecated. Use tobytes() instead.\n",
      "  task_str = task.tostring()\n",
      "/Users/juliana/opt/anaconda3/envs/imblearn/lib/python3.7/site-packages/scipy/optimize/lbfgsb.py:329: DeprecationWarning: tostring() is deprecated. Use tobytes() instead.\n",
      "  task_str = task.tostring()\n",
      "/Users/juliana/opt/anaconda3/envs/imblearn/lib/python3.7/site-packages/scipy/optimize/lbfgsb.py:329: DeprecationWarning: tostring() is deprecated. Use tobytes() instead.\n",
      "  task_str = task.tostring()\n",
      "/Users/juliana/opt/anaconda3/envs/imblearn/lib/python3.7/site-packages/scipy/optimize/lbfgsb.py:329: DeprecationWarning: tostring() is deprecated. Use tobytes() instead.\n",
      "  task_str = task.tostring()\n",
      "/Users/juliana/opt/anaconda3/envs/imblearn/lib/python3.7/site-packages/scipy/optimize/lbfgsb.py:329: DeprecationWarning: tostring() is deprecated. Use tobytes() instead.\n",
      "  task_str = task.tostring()\n",
      "/Users/juliana/opt/anaconda3/envs/imblearn/lib/python3.7/site-packages/scipy/optimize/lbfgsb.py:329: DeprecationWarning: tostring() is deprecated. Use tobytes() instead.\n",
      "  task_str = task.tostring()\n",
      "/Users/juliana/opt/anaconda3/envs/imblearn/lib/python3.7/site-packages/scipy/optimize/lbfgsb.py:329: DeprecationWarning: tostring() is deprecated. Use tobytes() instead.\n",
      "  task_str = task.tostring()\n",
      "/Users/juliana/opt/anaconda3/envs/imblearn/lib/python3.7/site-packages/scipy/optimize/lbfgsb.py:329: DeprecationWarning: tostring() is deprecated. Use tobytes() instead.\n",
      "  task_str = task.tostring()\n",
      "/Users/juliana/opt/anaconda3/envs/imblearn/lib/python3.7/site-packages/scipy/optimize/lbfgsb.py:329: DeprecationWarning: tostring() is deprecated. Use tobytes() instead.\n",
      "  task_str = task.tostring()\n",
      "/Users/juliana/opt/anaconda3/envs/imblearn/lib/python3.7/site-packages/scipy/optimize/lbfgsb.py:329: DeprecationWarning: tostring() is deprecated. Use tobytes() instead.\n",
      "  task_str = task.tostring()\n",
      "/Users/juliana/opt/anaconda3/envs/imblearn/lib/python3.7/site-packages/scipy/optimize/lbfgsb.py:329: DeprecationWarning: tostring() is deprecated. Use tobytes() instead.\n",
      "  task_str = task.tostring()\n",
      "/Users/juliana/opt/anaconda3/envs/imblearn/lib/python3.7/site-packages/scipy/optimize/lbfgsb.py:329: DeprecationWarning: tostring() is deprecated. Use tobytes() instead.\n",
      "  task_str = task.tostring()\n",
      "/Users/juliana/opt/anaconda3/envs/imblearn/lib/python3.7/site-packages/scipy/optimize/lbfgsb.py:329: DeprecationWarning: tostring() is deprecated. Use tobytes() instead.\n",
      "  task_str = task.tostring()\n",
      "/Users/juliana/opt/anaconda3/envs/imblearn/lib/python3.7/site-packages/scipy/optimize/lbfgsb.py:329: DeprecationWarning: tostring() is deprecated. Use tobytes() instead.\n",
      "  task_str = task.tostring()\n",
      "/Users/juliana/opt/anaconda3/envs/imblearn/lib/python3.7/site-packages/scipy/optimize/lbfgsb.py:329: DeprecationWarning: tostring() is deprecated. Use tobytes() instead.\n",
      "  task_str = task.tostring()\n",
      "/Users/juliana/opt/anaconda3/envs/imblearn/lib/python3.7/site-packages/scipy/optimize/lbfgsb.py:329: DeprecationWarning: tostring() is deprecated. Use tobytes() instead.\n",
      "  task_str = task.tostring()\n",
      "/Users/juliana/opt/anaconda3/envs/imblearn/lib/python3.7/site-packages/scipy/optimize/lbfgsb.py:329: DeprecationWarning: tostring() is deprecated. Use tobytes() instead.\n",
      "  task_str = task.tostring()\n",
      "/Users/juliana/opt/anaconda3/envs/imblearn/lib/python3.7/site-packages/scipy/optimize/lbfgsb.py:329: DeprecationWarning: tostring() is deprecated. Use tobytes() instead.\n",
      "  task_str = task.tostring()\n",
      "/Users/juliana/opt/anaconda3/envs/imblearn/lib/python3.7/site-packages/scipy/optimize/lbfgsb.py:329: DeprecationWarning: tostring() is deprecated. Use tobytes() instead.\n",
      "  task_str = task.tostring()\n",
      "/Users/juliana/opt/anaconda3/envs/imblearn/lib/python3.7/site-packages/scipy/optimize/lbfgsb.py:329: DeprecationWarning: tostring() is deprecated. Use tobytes() instead.\n",
      "  task_str = task.tostring()\n",
      "/Users/juliana/opt/anaconda3/envs/imblearn/lib/python3.7/site-packages/scipy/optimize/lbfgsb.py:329: DeprecationWarning: tostring() is deprecated. Use tobytes() instead.\n",
      "  task_str = task.tostring()\n",
      "/Users/juliana/opt/anaconda3/envs/imblearn/lib/python3.7/site-packages/scipy/optimize/lbfgsb.py:329: DeprecationWarning: tostring() is deprecated. Use tobytes() instead.\n",
      "  task_str = task.tostring()\n",
      "/Users/juliana/opt/anaconda3/envs/imblearn/lib/python3.7/site-packages/scipy/optimize/lbfgsb.py:329: DeprecationWarning: tostring() is deprecated. Use tobytes() instead.\n",
      "  task_str = task.tostring()\n",
      "/Users/juliana/opt/anaconda3/envs/imblearn/lib/python3.7/site-packages/scipy/optimize/lbfgsb.py:329: DeprecationWarning: tostring() is deprecated. Use tobytes() instead.\n",
      "  task_str = task.tostring()\n",
      "/Users/juliana/opt/anaconda3/envs/imblearn/lib/python3.7/site-packages/scipy/optimize/lbfgsb.py:329: DeprecationWarning: tostring() is deprecated. Use tobytes() instead.\n",
      "  task_str = task.tostring()\n",
      "/Users/juliana/opt/anaconda3/envs/imblearn/lib/python3.7/site-packages/scipy/optimize/lbfgsb.py:329: DeprecationWarning: tostring() is deprecated. Use tobytes() instead.\n",
      "  task_str = task.tostring()\n",
      "/Users/juliana/opt/anaconda3/envs/imblearn/lib/python3.7/site-packages/scipy/optimize/lbfgsb.py:329: DeprecationWarning: tostring() is deprecated. Use tobytes() instead.\n",
      "  task_str = task.tostring()\n",
      "/Users/juliana/opt/anaconda3/envs/imblearn/lib/python3.7/site-packages/scipy/optimize/lbfgsb.py:329: DeprecationWarning: tostring() is deprecated. Use tobytes() instead.\n",
      "  task_str = task.tostring()\n",
      "/Users/juliana/opt/anaconda3/envs/imblearn/lib/python3.7/site-packages/scipy/optimize/lbfgsb.py:329: DeprecationWarning: tostring() is deprecated. Use tobytes() instead.\n",
      "  task_str = task.tostring()\n",
      "/Users/juliana/opt/anaconda3/envs/imblearn/lib/python3.7/site-packages/scipy/optimize/lbfgsb.py:329: DeprecationWarning: tostring() is deprecated. Use tobytes() instead.\n",
      "  task_str = task.tostring()\n",
      "/Users/juliana/opt/anaconda3/envs/imblearn/lib/python3.7/site-packages/scipy/optimize/lbfgsb.py:329: DeprecationWarning: tostring() is deprecated. Use tobytes() instead.\n",
      "  task_str = task.tostring()\n",
      "/Users/juliana/opt/anaconda3/envs/imblearn/lib/python3.7/site-packages/scipy/optimize/lbfgsb.py:329: DeprecationWarning: tostring() is deprecated. Use tobytes() instead.\n",
      "  task_str = task.tostring()\n",
      "/Users/juliana/opt/anaconda3/envs/imblearn/lib/python3.7/site-packages/scipy/optimize/lbfgsb.py:329: DeprecationWarning: tostring() is deprecated. Use tobytes() instead.\n",
      "  task_str = task.tostring()\n",
      "/Users/juliana/opt/anaconda3/envs/imblearn/lib/python3.7/site-packages/scipy/optimize/lbfgsb.py:329: DeprecationWarning: tostring() is deprecated. Use tobytes() instead.\n",
      "  task_str = task.tostring()\n",
      "/Users/juliana/opt/anaconda3/envs/imblearn/lib/python3.7/site-packages/scipy/optimize/lbfgsb.py:329: DeprecationWarning: tostring() is deprecated. Use tobytes() instead.\n",
      "  task_str = task.tostring()\n",
      "/Users/juliana/opt/anaconda3/envs/imblearn/lib/python3.7/site-packages/scipy/optimize/lbfgsb.py:329: DeprecationWarning: tostring() is deprecated. Use tobytes() instead.\n",
      "  task_str = task.tostring()\n",
      "/Users/juliana/opt/anaconda3/envs/imblearn/lib/python3.7/site-packages/scipy/optimize/lbfgsb.py:329: DeprecationWarning: tostring() is deprecated. Use tobytes() instead.\n",
      "  task_str = task.tostring()\n",
      "/Users/juliana/opt/anaconda3/envs/imblearn/lib/python3.7/site-packages/scipy/optimize/lbfgsb.py:329: DeprecationWarning: tostring() is deprecated. Use tobytes() instead.\n",
      "  task_str = task.tostring()\n",
      "/Users/juliana/opt/anaconda3/envs/imblearn/lib/python3.7/site-packages/scipy/optimize/lbfgsb.py:329: DeprecationWarning: tostring() is deprecated. Use tobytes() instead.\n",
      "  task_str = task.tostring()\n",
      "/Users/juliana/opt/anaconda3/envs/imblearn/lib/python3.7/site-packages/scipy/optimize/lbfgsb.py:329: DeprecationWarning: tostring() is deprecated. Use tobytes() instead.\n",
      "  task_str = task.tostring()\n",
      "/Users/juliana/opt/anaconda3/envs/imblearn/lib/python3.7/site-packages/scipy/optimize/lbfgsb.py:329: DeprecationWarning: tostring() is deprecated. Use tobytes() instead.\n",
      "  task_str = task.tostring()\n",
      "/Users/juliana/opt/anaconda3/envs/imblearn/lib/python3.7/site-packages/scipy/optimize/lbfgsb.py:329: DeprecationWarning: tostring() is deprecated. Use tobytes() instead.\n",
      "  task_str = task.tostring()\n",
      "/Users/juliana/opt/anaconda3/envs/imblearn/lib/python3.7/site-packages/scipy/optimize/lbfgsb.py:329: DeprecationWarning: tostring() is deprecated. Use tobytes() instead.\n",
      "  task_str = task.tostring()\n",
      "/Users/juliana/opt/anaconda3/envs/imblearn/lib/python3.7/site-packages/scipy/optimize/lbfgsb.py:329: DeprecationWarning: tostring() is deprecated. Use tobytes() instead.\n",
      "  task_str = task.tostring()\n",
      "/Users/juliana/opt/anaconda3/envs/imblearn/lib/python3.7/site-packages/scipy/optimize/lbfgsb.py:329: DeprecationWarning: tostring() is deprecated. Use tobytes() instead.\n",
      "  task_str = task.tostring()\n",
      "/Users/juliana/opt/anaconda3/envs/imblearn/lib/python3.7/site-packages/scipy/optimize/lbfgsb.py:329: DeprecationWarning: tostring() is deprecated. Use tobytes() instead.\n",
      "  task_str = task.tostring()\n",
      "/Users/juliana/opt/anaconda3/envs/imblearn/lib/python3.7/site-packages/scipy/optimize/lbfgsb.py:329: DeprecationWarning: tostring() is deprecated. Use tobytes() instead.\n",
      "  task_str = task.tostring()\n",
      "/Users/juliana/opt/anaconda3/envs/imblearn/lib/python3.7/site-packages/scipy/optimize/lbfgsb.py:329: DeprecationWarning: tostring() is deprecated. Use tobytes() instead.\n",
      "  task_str = task.tostring()\n",
      "/Users/juliana/opt/anaconda3/envs/imblearn/lib/python3.7/site-packages/scipy/optimize/lbfgsb.py:329: DeprecationWarning: tostring() is deprecated. Use tobytes() instead.\n",
      "  task_str = task.tostring()\n",
      "/Users/juliana/opt/anaconda3/envs/imblearn/lib/python3.7/site-packages/scipy/optimize/lbfgsb.py:329: DeprecationWarning: tostring() is deprecated. Use tobytes() instead.\n",
      "  task_str = task.tostring()\n",
      "/Users/juliana/opt/anaconda3/envs/imblearn/lib/python3.7/site-packages/scipy/optimize/lbfgsb.py:329: DeprecationWarning: tostring() is deprecated. Use tobytes() instead.\n",
      "  task_str = task.tostring()\n",
      "/Users/juliana/opt/anaconda3/envs/imblearn/lib/python3.7/site-packages/scipy/optimize/lbfgsb.py:329: DeprecationWarning: tostring() is deprecated. Use tobytes() instead.\n",
      "  task_str = task.tostring()\n",
      "/Users/juliana/opt/anaconda3/envs/imblearn/lib/python3.7/site-packages/scipy/optimize/lbfgsb.py:329: DeprecationWarning: tostring() is deprecated. Use tobytes() instead.\n",
      "  task_str = task.tostring()\n",
      "/Users/juliana/opt/anaconda3/envs/imblearn/lib/python3.7/site-packages/scipy/optimize/lbfgsb.py:329: DeprecationWarning: tostring() is deprecated. Use tobytes() instead.\n",
      "  task_str = task.tostring()\n",
      "/Users/juliana/opt/anaconda3/envs/imblearn/lib/python3.7/site-packages/scipy/optimize/lbfgsb.py:329: DeprecationWarning: tostring() is deprecated. Use tobytes() instead.\n",
      "  task_str = task.tostring()\n",
      "/Users/juliana/opt/anaconda3/envs/imblearn/lib/python3.7/site-packages/scipy/optimize/lbfgsb.py:329: DeprecationWarning: tostring() is deprecated. Use tobytes() instead.\n",
      "  task_str = task.tostring()\n",
      "/Users/juliana/opt/anaconda3/envs/imblearn/lib/python3.7/site-packages/scipy/optimize/lbfgsb.py:329: DeprecationWarning: tostring() is deprecated. Use tobytes() instead.\n",
      "  task_str = task.tostring()\n",
      "/Users/juliana/opt/anaconda3/envs/imblearn/lib/python3.7/site-packages/scipy/optimize/lbfgsb.py:329: DeprecationWarning: tostring() is deprecated. Use tobytes() instead.\n",
      "  task_str = task.tostring()\n",
      "/Users/juliana/opt/anaconda3/envs/imblearn/lib/python3.7/site-packages/scipy/optimize/lbfgsb.py:329: DeprecationWarning: tostring() is deprecated. Use tobytes() instead.\n",
      "  task_str = task.tostring()\n",
      "/Users/juliana/opt/anaconda3/envs/imblearn/lib/python3.7/site-packages/scipy/optimize/lbfgsb.py:329: DeprecationWarning: tostring() is deprecated. Use tobytes() instead.\n",
      "  task_str = task.tostring()\n",
      "/Users/juliana/opt/anaconda3/envs/imblearn/lib/python3.7/site-packages/scipy/optimize/lbfgsb.py:329: DeprecationWarning: tostring() is deprecated. Use tobytes() instead.\n",
      "  task_str = task.tostring()\n",
      "/Users/juliana/opt/anaconda3/envs/imblearn/lib/python3.7/site-packages/scipy/optimize/lbfgsb.py:329: DeprecationWarning: tostring() is deprecated. Use tobytes() instead.\n",
      "  task_str = task.tostring()\n",
      "/Users/juliana/opt/anaconda3/envs/imblearn/lib/python3.7/site-packages/scipy/optimize/lbfgsb.py:329: DeprecationWarning: tostring() is deprecated. Use tobytes() instead.\n",
      "  task_str = task.tostring()\n",
      "/Users/juliana/opt/anaconda3/envs/imblearn/lib/python3.7/site-packages/scipy/optimize/lbfgsb.py:329: DeprecationWarning: tostring() is deprecated. Use tobytes() instead.\n",
      "  task_str = task.tostring()\n",
      "/Users/juliana/opt/anaconda3/envs/imblearn/lib/python3.7/site-packages/scipy/optimize/lbfgsb.py:329: DeprecationWarning: tostring() is deprecated. Use tobytes() instead.\n",
      "  task_str = task.tostring()\n",
      "/Users/juliana/opt/anaconda3/envs/imblearn/lib/python3.7/site-packages/scipy/optimize/lbfgsb.py:329: DeprecationWarning: tostring() is deprecated. Use tobytes() instead.\n",
      "  task_str = task.tostring()\n",
      "/Users/juliana/opt/anaconda3/envs/imblearn/lib/python3.7/site-packages/scipy/optimize/lbfgsb.py:329: DeprecationWarning: tostring() is deprecated. Use tobytes() instead.\n",
      "  task_str = task.tostring()\n",
      "/Users/juliana/opt/anaconda3/envs/imblearn/lib/python3.7/site-packages/scipy/optimize/lbfgsb.py:329: DeprecationWarning: tostring() is deprecated. Use tobytes() instead.\n",
      "  task_str = task.tostring()\n",
      "/Users/juliana/opt/anaconda3/envs/imblearn/lib/python3.7/site-packages/scipy/optimize/lbfgsb.py:329: DeprecationWarning: tostring() is deprecated. Use tobytes() instead.\n",
      "  task_str = task.tostring()\n",
      "/Users/juliana/opt/anaconda3/envs/imblearn/lib/python3.7/site-packages/scipy/optimize/lbfgsb.py:329: DeprecationWarning: tostring() is deprecated. Use tobytes() instead.\n",
      "  task_str = task.tostring()\n",
      "/Users/juliana/opt/anaconda3/envs/imblearn/lib/python3.7/site-packages/scipy/optimize/lbfgsb.py:329: DeprecationWarning: tostring() is deprecated. Use tobytes() instead.\n",
      "  task_str = task.tostring()\n",
      "/Users/juliana/opt/anaconda3/envs/imblearn/lib/python3.7/site-packages/scipy/optimize/lbfgsb.py:329: DeprecationWarning: tostring() is deprecated. Use tobytes() instead.\n",
      "  task_str = task.tostring()\n",
      "/Users/juliana/opt/anaconda3/envs/imblearn/lib/python3.7/site-packages/scipy/optimize/lbfgsb.py:329: DeprecationWarning: tostring() is deprecated. Use tobytes() instead.\n",
      "  task_str = task.tostring()\n",
      "/Users/juliana/opt/anaconda3/envs/imblearn/lib/python3.7/site-packages/scipy/optimize/lbfgsb.py:329: DeprecationWarning: tostring() is deprecated. Use tobytes() instead.\n",
      "  task_str = task.tostring()\n",
      "/Users/juliana/opt/anaconda3/envs/imblearn/lib/python3.7/site-packages/scipy/optimize/lbfgsb.py:329: DeprecationWarning: tostring() is deprecated. Use tobytes() instead.\n",
      "  task_str = task.tostring()\n",
      "/Users/juliana/opt/anaconda3/envs/imblearn/lib/python3.7/site-packages/scipy/optimize/lbfgsb.py:329: DeprecationWarning: tostring() is deprecated. Use tobytes() instead.\n",
      "  task_str = task.tostring()\n",
      "/Users/juliana/opt/anaconda3/envs/imblearn/lib/python3.7/site-packages/scipy/optimize/lbfgsb.py:329: DeprecationWarning: tostring() is deprecated. Use tobytes() instead.\n",
      "  task_str = task.tostring()\n",
      "/Users/juliana/opt/anaconda3/envs/imblearn/lib/python3.7/site-packages/scipy/optimize/lbfgsb.py:329: DeprecationWarning: tostring() is deprecated. Use tobytes() instead.\n",
      "  task_str = task.tostring()\n",
      "/Users/juliana/opt/anaconda3/envs/imblearn/lib/python3.7/site-packages/scipy/optimize/lbfgsb.py:329: DeprecationWarning: tostring() is deprecated. Use tobytes() instead.\n",
      "  task_str = task.tostring()\n",
      "/Users/juliana/opt/anaconda3/envs/imblearn/lib/python3.7/site-packages/scipy/optimize/lbfgsb.py:329: DeprecationWarning: tostring() is deprecated. Use tobytes() instead.\n",
      "  task_str = task.tostring()\n",
      "/Users/juliana/opt/anaconda3/envs/imblearn/lib/python3.7/site-packages/scipy/optimize/lbfgsb.py:329: DeprecationWarning: tostring() is deprecated. Use tobytes() instead.\n",
      "  task_str = task.tostring()\n",
      "/Users/juliana/opt/anaconda3/envs/imblearn/lib/python3.7/site-packages/scipy/optimize/lbfgsb.py:329: DeprecationWarning: tostring() is deprecated. Use tobytes() instead.\n",
      "  task_str = task.tostring()\n",
      "/Users/juliana/opt/anaconda3/envs/imblearn/lib/python3.7/site-packages/scipy/optimize/lbfgsb.py:329: DeprecationWarning: tostring() is deprecated. Use tobytes() instead.\n",
      "  task_str = task.tostring()\n",
      "/Users/juliana/opt/anaconda3/envs/imblearn/lib/python3.7/site-packages/scipy/optimize/lbfgsb.py:329: DeprecationWarning: tostring() is deprecated. Use tobytes() instead.\n",
      "  task_str = task.tostring()\n",
      "/Users/juliana/opt/anaconda3/envs/imblearn/lib/python3.7/site-packages/scipy/optimize/lbfgsb.py:329: DeprecationWarning: tostring() is deprecated. Use tobytes() instead.\n",
      "  task_str = task.tostring()\n",
      "/Users/juliana/opt/anaconda3/envs/imblearn/lib/python3.7/site-packages/scipy/optimize/lbfgsb.py:329: DeprecationWarning: tostring() is deprecated. Use tobytes() instead.\n",
      "  task_str = task.tostring()\n",
      "/Users/juliana/opt/anaconda3/envs/imblearn/lib/python3.7/site-packages/scipy/optimize/lbfgsb.py:329: DeprecationWarning: tostring() is deprecated. Use tobytes() instead.\n",
      "  task_str = task.tostring()\n",
      "/Users/juliana/opt/anaconda3/envs/imblearn/lib/python3.7/site-packages/scipy/optimize/lbfgsb.py:329: DeprecationWarning: tostring() is deprecated. Use tobytes() instead.\n",
      "  task_str = task.tostring()\n",
      "/Users/juliana/opt/anaconda3/envs/imblearn/lib/python3.7/site-packages/scipy/optimize/lbfgsb.py:329: DeprecationWarning: tostring() is deprecated. Use tobytes() instead.\n",
      "  task_str = task.tostring()\n",
      "/Users/juliana/opt/anaconda3/envs/imblearn/lib/python3.7/site-packages/scipy/optimize/lbfgsb.py:329: DeprecationWarning: tostring() is deprecated. Use tobytes() instead.\n",
      "  task_str = task.tostring()\n",
      "/Users/juliana/opt/anaconda3/envs/imblearn/lib/python3.7/site-packages/scipy/optimize/lbfgsb.py:329: DeprecationWarning: tostring() is deprecated. Use tobytes() instead.\n",
      "  task_str = task.tostring()\n",
      "/Users/juliana/opt/anaconda3/envs/imblearn/lib/python3.7/site-packages/scipy/optimize/lbfgsb.py:329: DeprecationWarning: tostring() is deprecated. Use tobytes() instead.\n",
      "  task_str = task.tostring()\n",
      "/Users/juliana/opt/anaconda3/envs/imblearn/lib/python3.7/site-packages/scipy/optimize/lbfgsb.py:329: DeprecationWarning: tostring() is deprecated. Use tobytes() instead.\n",
      "  task_str = task.tostring()\n",
      "/Users/juliana/opt/anaconda3/envs/imblearn/lib/python3.7/site-packages/scipy/optimize/lbfgsb.py:329: DeprecationWarning: tostring() is deprecated. Use tobytes() instead.\n",
      "  task_str = task.tostring()\n",
      "/Users/juliana/opt/anaconda3/envs/imblearn/lib/python3.7/site-packages/scipy/optimize/lbfgsb.py:329: DeprecationWarning: tostring() is deprecated. Use tobytes() instead.\n",
      "  task_str = task.tostring()\n",
      "/Users/juliana/opt/anaconda3/envs/imblearn/lib/python3.7/site-packages/scipy/optimize/lbfgsb.py:329: DeprecationWarning: tostring() is deprecated. Use tobytes() instead.\n",
      "  task_str = task.tostring()\n",
      "/Users/juliana/opt/anaconda3/envs/imblearn/lib/python3.7/site-packages/scipy/optimize/lbfgsb.py:329: DeprecationWarning: tostring() is deprecated. Use tobytes() instead.\n",
      "  task_str = task.tostring()\n",
      "/Users/juliana/opt/anaconda3/envs/imblearn/lib/python3.7/site-packages/scipy/optimize/lbfgsb.py:329: DeprecationWarning: tostring() is deprecated. Use tobytes() instead.\n",
      "  task_str = task.tostring()\n",
      "/Users/juliana/opt/anaconda3/envs/imblearn/lib/python3.7/site-packages/scipy/optimize/lbfgsb.py:329: DeprecationWarning: tostring() is deprecated. Use tobytes() instead.\n",
      "  task_str = task.tostring()\n",
      "/Users/juliana/opt/anaconda3/envs/imblearn/lib/python3.7/site-packages/scipy/optimize/lbfgsb.py:329: DeprecationWarning: tostring() is deprecated. Use tobytes() instead.\n",
      "  task_str = task.tostring()\n",
      "/Users/juliana/opt/anaconda3/envs/imblearn/lib/python3.7/site-packages/scipy/optimize/lbfgsb.py:329: DeprecationWarning: tostring() is deprecated. Use tobytes() instead.\n",
      "  task_str = task.tostring()\n",
      "/Users/juliana/opt/anaconda3/envs/imblearn/lib/python3.7/site-packages/scipy/optimize/lbfgsb.py:329: DeprecationWarning: tostring() is deprecated. Use tobytes() instead.\n",
      "  task_str = task.tostring()\n",
      "/Users/juliana/opt/anaconda3/envs/imblearn/lib/python3.7/site-packages/scipy/optimize/lbfgsb.py:329: DeprecationWarning: tostring() is deprecated. Use tobytes() instead.\n",
      "  task_str = task.tostring()\n",
      "/Users/juliana/opt/anaconda3/envs/imblearn/lib/python3.7/site-packages/scipy/optimize/lbfgsb.py:329: DeprecationWarning: tostring() is deprecated. Use tobytes() instead.\n",
      "  task_str = task.tostring()\n",
      "/Users/juliana/opt/anaconda3/envs/imblearn/lib/python3.7/site-packages/scipy/optimize/lbfgsb.py:329: DeprecationWarning: tostring() is deprecated. Use tobytes() instead.\n",
      "  task_str = task.tostring()\n",
      "/Users/juliana/opt/anaconda3/envs/imblearn/lib/python3.7/site-packages/scipy/optimize/lbfgsb.py:329: DeprecationWarning: tostring() is deprecated. Use tobytes() instead.\n",
      "  task_str = task.tostring()\n",
      "/Users/juliana/opt/anaconda3/envs/imblearn/lib/python3.7/site-packages/scipy/optimize/lbfgsb.py:329: DeprecationWarning: tostring() is deprecated. Use tobytes() instead.\n",
      "  task_str = task.tostring()\n",
      "/Users/juliana/opt/anaconda3/envs/imblearn/lib/python3.7/site-packages/scipy/optimize/lbfgsb.py:329: DeprecationWarning: tostring() is deprecated. Use tobytes() instead.\n",
      "  task_str = task.tostring()\n",
      "/Users/juliana/opt/anaconda3/envs/imblearn/lib/python3.7/site-packages/scipy/optimize/lbfgsb.py:329: DeprecationWarning: tostring() is deprecated. Use tobytes() instead.\n",
      "  task_str = task.tostring()\n",
      "/Users/juliana/opt/anaconda3/envs/imblearn/lib/python3.7/site-packages/scipy/optimize/lbfgsb.py:329: DeprecationWarning: tostring() is deprecated. Use tobytes() instead.\n",
      "  task_str = task.tostring()\n",
      "/Users/juliana/opt/anaconda3/envs/imblearn/lib/python3.7/site-packages/scipy/optimize/lbfgsb.py:329: DeprecationWarning: tostring() is deprecated. Use tobytes() instead.\n",
      "  task_str = task.tostring()\n",
      "/Users/juliana/opt/anaconda3/envs/imblearn/lib/python3.7/site-packages/scipy/optimize/lbfgsb.py:329: DeprecationWarning: tostring() is deprecated. Use tobytes() instead.\n",
      "  task_str = task.tostring()\n",
      "/Users/juliana/opt/anaconda3/envs/imblearn/lib/python3.7/site-packages/scipy/optimize/lbfgsb.py:329: DeprecationWarning: tostring() is deprecated. Use tobytes() instead.\n",
      "  task_str = task.tostring()\n",
      "/Users/juliana/opt/anaconda3/envs/imblearn/lib/python3.7/site-packages/scipy/optimize/lbfgsb.py:329: DeprecationWarning: tostring() is deprecated. Use tobytes() instead.\n",
      "  task_str = task.tostring()\n",
      "/Users/juliana/opt/anaconda3/envs/imblearn/lib/python3.7/site-packages/scipy/optimize/lbfgsb.py:329: DeprecationWarning: tostring() is deprecated. Use tobytes() instead.\n",
      "  task_str = task.tostring()\n",
      "/Users/juliana/opt/anaconda3/envs/imblearn/lib/python3.7/site-packages/scipy/optimize/lbfgsb.py:329: DeprecationWarning: tostring() is deprecated. Use tobytes() instead.\n",
      "  task_str = task.tostring()\n",
      "/Users/juliana/opt/anaconda3/envs/imblearn/lib/python3.7/site-packages/scipy/optimize/lbfgsb.py:329: DeprecationWarning: tostring() is deprecated. Use tobytes() instead.\n",
      "  task_str = task.tostring()\n",
      "/Users/juliana/opt/anaconda3/envs/imblearn/lib/python3.7/site-packages/scipy/optimize/lbfgsb.py:329: DeprecationWarning: tostring() is deprecated. Use tobytes() instead.\n",
      "  task_str = task.tostring()\n",
      "/Users/juliana/opt/anaconda3/envs/imblearn/lib/python3.7/site-packages/scipy/optimize/lbfgsb.py:329: DeprecationWarning: tostring() is deprecated. Use tobytes() instead.\n",
      "  task_str = task.tostring()\n",
      "/Users/juliana/opt/anaconda3/envs/imblearn/lib/python3.7/site-packages/scipy/optimize/lbfgsb.py:329: DeprecationWarning: tostring() is deprecated. Use tobytes() instead.\n",
      "  task_str = task.tostring()\n",
      "/Users/juliana/opt/anaconda3/envs/imblearn/lib/python3.7/site-packages/scipy/optimize/lbfgsb.py:329: DeprecationWarning: tostring() is deprecated. Use tobytes() instead.\n",
      "  task_str = task.tostring()\n",
      "/Users/juliana/opt/anaconda3/envs/imblearn/lib/python3.7/site-packages/scipy/optimize/lbfgsb.py:329: DeprecationWarning: tostring() is deprecated. Use tobytes() instead.\n",
      "  task_str = task.tostring()\n",
      "/Users/juliana/opt/anaconda3/envs/imblearn/lib/python3.7/site-packages/scipy/optimize/lbfgsb.py:329: DeprecationWarning: tostring() is deprecated. Use tobytes() instead.\n",
      "  task_str = task.tostring()\n",
      "/Users/juliana/opt/anaconda3/envs/imblearn/lib/python3.7/site-packages/scipy/optimize/lbfgsb.py:329: DeprecationWarning: tostring() is deprecated. Use tobytes() instead.\n",
      "  task_str = task.tostring()\n",
      "/Users/juliana/opt/anaconda3/envs/imblearn/lib/python3.7/site-packages/scipy/optimize/lbfgsb.py:329: DeprecationWarning: tostring() is deprecated. Use tobytes() instead.\n",
      "  task_str = task.tostring()\n",
      "/Users/juliana/opt/anaconda3/envs/imblearn/lib/python3.7/site-packages/scipy/optimize/lbfgsb.py:329: DeprecationWarning: tostring() is deprecated. Use tobytes() instead.\n",
      "  task_str = task.tostring()\n",
      "/Users/juliana/opt/anaconda3/envs/imblearn/lib/python3.7/site-packages/scipy/optimize/lbfgsb.py:329: DeprecationWarning: tostring() is deprecated. Use tobytes() instead.\n",
      "  task_str = task.tostring()\n",
      "/Users/juliana/opt/anaconda3/envs/imblearn/lib/python3.7/site-packages/scipy/optimize/lbfgsb.py:329: DeprecationWarning: tostring() is deprecated. Use tobytes() instead.\n",
      "  task_str = task.tostring()\n",
      "/Users/juliana/opt/anaconda3/envs/imblearn/lib/python3.7/site-packages/scipy/optimize/lbfgsb.py:329: DeprecationWarning: tostring() is deprecated. Use tobytes() instead.\n",
      "  task_str = task.tostring()\n",
      "/Users/juliana/opt/anaconda3/envs/imblearn/lib/python3.7/site-packages/scipy/optimize/lbfgsb.py:329: DeprecationWarning: tostring() is deprecated. Use tobytes() instead.\n",
      "  task_str = task.tostring()\n",
      "/Users/juliana/opt/anaconda3/envs/imblearn/lib/python3.7/site-packages/scipy/optimize/lbfgsb.py:329: DeprecationWarning: tostring() is deprecated. Use tobytes() instead.\n",
      "  task_str = task.tostring()\n",
      "/Users/juliana/opt/anaconda3/envs/imblearn/lib/python3.7/site-packages/scipy/optimize/lbfgsb.py:329: DeprecationWarning: tostring() is deprecated. Use tobytes() instead.\n",
      "  task_str = task.tostring()\n",
      "/Users/juliana/opt/anaconda3/envs/imblearn/lib/python3.7/site-packages/scipy/optimize/lbfgsb.py:329: DeprecationWarning: tostring() is deprecated. Use tobytes() instead.\n",
      "  task_str = task.tostring()\n",
      "/Users/juliana/opt/anaconda3/envs/imblearn/lib/python3.7/site-packages/scipy/optimize/lbfgsb.py:329: DeprecationWarning: tostring() is deprecated. Use tobytes() instead.\n",
      "  task_str = task.tostring()\n",
      "/Users/juliana/opt/anaconda3/envs/imblearn/lib/python3.7/site-packages/scipy/optimize/lbfgsb.py:329: DeprecationWarning: tostring() is deprecated. Use tobytes() instead.\n",
      "  task_str = task.tostring()\n",
      "/Users/juliana/opt/anaconda3/envs/imblearn/lib/python3.7/site-packages/scipy/optimize/lbfgsb.py:329: DeprecationWarning: tostring() is deprecated. Use tobytes() instead.\n",
      "  task_str = task.tostring()\n",
      "/Users/juliana/opt/anaconda3/envs/imblearn/lib/python3.7/site-packages/scipy/optimize/lbfgsb.py:329: DeprecationWarning: tostring() is deprecated. Use tobytes() instead.\n",
      "  task_str = task.tostring()\n",
      "/Users/juliana/opt/anaconda3/envs/imblearn/lib/python3.7/site-packages/scipy/optimize/lbfgsb.py:329: DeprecationWarning: tostring() is deprecated. Use tobytes() instead.\n",
      "  task_str = task.tostring()\n",
      "/Users/juliana/opt/anaconda3/envs/imblearn/lib/python3.7/site-packages/scipy/optimize/lbfgsb.py:329: DeprecationWarning: tostring() is deprecated. Use tobytes() instead.\n",
      "  task_str = task.tostring()\n",
      "/Users/juliana/opt/anaconda3/envs/imblearn/lib/python3.7/site-packages/scipy/optimize/lbfgsb.py:329: DeprecationWarning: tostring() is deprecated. Use tobytes() instead.\n",
      "  task_str = task.tostring()\n",
      "/Users/juliana/opt/anaconda3/envs/imblearn/lib/python3.7/site-packages/scipy/optimize/lbfgsb.py:329: DeprecationWarning: tostring() is deprecated. Use tobytes() instead.\n",
      "  task_str = task.tostring()\n",
      "/Users/juliana/opt/anaconda3/envs/imblearn/lib/python3.7/site-packages/scipy/optimize/lbfgsb.py:329: DeprecationWarning: tostring() is deprecated. Use tobytes() instead.\n",
      "  task_str = task.tostring()\n",
      "/Users/juliana/opt/anaconda3/envs/imblearn/lib/python3.7/site-packages/scipy/optimize/lbfgsb.py:329: DeprecationWarning: tostring() is deprecated. Use tobytes() instead.\n",
      "  task_str = task.tostring()\n",
      "/Users/juliana/opt/anaconda3/envs/imblearn/lib/python3.7/site-packages/scipy/optimize/lbfgsb.py:329: DeprecationWarning: tostring() is deprecated. Use tobytes() instead.\n",
      "  task_str = task.tostring()\n",
      "/Users/juliana/opt/anaconda3/envs/imblearn/lib/python3.7/site-packages/scipy/optimize/lbfgsb.py:329: DeprecationWarning: tostring() is deprecated. Use tobytes() instead.\n",
      "  task_str = task.tostring()\n",
      "/Users/juliana/opt/anaconda3/envs/imblearn/lib/python3.7/site-packages/scipy/optimize/lbfgsb.py:329: DeprecationWarning: tostring() is deprecated. Use tobytes() instead.\n",
      "  task_str = task.tostring()\n",
      "/Users/juliana/opt/anaconda3/envs/imblearn/lib/python3.7/site-packages/scipy/optimize/lbfgsb.py:329: DeprecationWarning: tostring() is deprecated. Use tobytes() instead.\n",
      "  task_str = task.tostring()\n",
      "/Users/juliana/opt/anaconda3/envs/imblearn/lib/python3.7/site-packages/scipy/optimize/lbfgsb.py:350: DeprecationWarning: tostring() is deprecated. Use tobytes() instead.\n",
      "  task_str = task.tostring().strip(b'\\x00').strip()\n",
      "/Users/juliana/opt/anaconda3/envs/imblearn/lib/python3.7/site-packages/sklearn/linear_model/_logistic.py:939: ConvergenceWarning: lbfgs failed to converge (status=1):\n",
      "STOP: TOTAL NO. of ITERATIONS REACHED LIMIT.\n",
      "\n",
      "Increase the number of iterations (max_iter) or scale the data as shown in:\n",
      "    https://scikit-learn.org/stable/modules/preprocessing.html.\n",
      "Please also refer to the documentation for alternative solver options:\n",
      "    https://scikit-learn.org/stable/modules/linear_model.html#logistic-regression\n",
      "  extra_warning_msg=_LOGISTIC_SOLVER_CONVERGENCE_MSG)\n"
     ]
    },
    {
     "data": {
      "text/plain": [
       "LogisticRegression(C=1.0, class_weight=None, dual=False, fit_intercept=True,\n",
       "                   intercept_scaling=1, l1_ratio=None, max_iter=100,\n",
       "                   multi_class='auto', n_jobs=None, penalty='l2',\n",
       "                   random_state=0, solver='lbfgs', tol=0.0001, verbose=0,\n",
       "                   warm_start=False)"
      ]
     },
     "execution_count": 21,
     "metadata": {},
     "output_type": "execute_result"
    }
   ],
   "source": [
    "# Run Logistic Regression on up-sampled data\n",
    "clf_log_reg_smote = LogisticRegression(random_state=0)\n",
    "clf_log_reg_smote.fit(X_train_sm, y_train_sm)"
   ]
  },
  {
   "cell_type": "code",
   "execution_count": 22,
   "id": "6ff485ee",
   "metadata": {},
   "outputs": [
    {
     "name": "stdout",
     "output_type": "stream",
     "text": [
      "Validation Result:\n",
      "\n",
      "accuracy score: 0.6218\n",
      "\n"
     ]
    },
    {
     "data": {
      "image/png": "[encoded data removed]",
      "text/plain": [
       "<Figure size 576x396 with 1 Axes>"
      ]
     },
     "metadata": {},
     "output_type": "display_data"
    },
    {
     "name": "stdout",
     "output_type": "stream",
     "text": [
      "roc auc score: 0.7169095765529054\n",
      "\n"
     ]
    },
    {
     "data": {
      "image/png": "[encoded data removed]",
      "text/plain": [
       "<Figure size 576x396 with 1 Axes>"
      ]
     },
     "metadata": {},
     "output_type": "display_data"
    },
    {
     "name": "stdout",
     "output_type": "stream",
     "text": [
      "Classification Report: \n",
      "               precision    recall  f1-score   support\n",
      "\n",
      "           0       0.98      0.61      0.75      1514\n",
      "           1       0.11      0.82      0.20        91\n",
      "\n",
      "    accuracy                           0.62      1605\n",
      "   macro avg       0.55      0.72      0.48      1605\n",
      "weighted avg       0.93      0.62      0.72      1605\n",
      "\n",
      "\n",
      "Confusion Matrix: \n",
      " [[923 591]\n",
      " [ 16  75]]\n",
      "\n",
      "End of validation Result\n",
      "\n"
     ]
    },
    {
     "data": {
      "image/png": "[encoded data removed]",
      "text/plain": [
       "<Figure size 576x396 with 2 Axes>"
      ]
     },
     "metadata": {},
     "output_type": "display_data"
    }
   ],
   "source": [
    "clf_score(clf_log_reg_smote, X_train_sm, y_train_sm, X_val, y_val, train=False)"
   ]
  },
  {
   "cell_type": "code",
   "execution_count": null,
   "id": "680522bf",
   "metadata": {},
   "outputs": [],
   "source": []
  },
  {
   "cell_type": "markdown",
   "id": "53e785a2",
   "metadata": {},
   "source": [
    "## Create DataFrame from np array"
   ]
  },
  {
   "cell_type": "code",
   "execution_count": 19,
   "id": "14a066f3",
   "metadata": {},
   "outputs": [],
   "source": [
    "# Train, validation and test DataFrames\n",
    "X_train_df = pd.DataFrame(X_train, columns=X.columns)\n",
    "X_val_df = pd.DataFrame(X_val, columns=X.columns)\n",
    "X_test_df = pd.DataFrame(X_test, columns=X.columns)\n",
    "\n",
    "# Full dataframe to be used for CV\n",
    "X = pd.concat([X_train_df, X_val_df, X_test_df])\n",
    "\n",
    "#y_train = np.reshape(y_train,(len(y_train),1))\n",
    "#y_val = np.reshape(y_val,(len(y_val),1))\n",
    "#y_train = pd.DataFrame(y_train,columns='target')\n",
    "#y_val = pd.DataFrame(y_val,columns='target')\n",
    "y = pd.concat([y_train, y_val, y_test])"
   ]
  },
  {
   "cell_type": "code",
   "execution_count": 22,
   "id": "c4031dbf",
   "metadata": {},
   "outputs": [
    {
     "data": {
      "text/html": [
       "<div>\n",
       "<style scoped>\n",
       "    .dataframe tbody tr th:only-of-type {\n",
       "        vertical-align: middle;\n",
       "    }\n",
       "\n",
       "    .dataframe tbody tr th {\n",
       "        vertical-align: top;\n",
       "    }\n",
       "\n",
       "    .dataframe thead th {\n",
       "        text-align: right;\n",
       "    }\n",
       "</style>\n",
       "<table border=\"1\" class=\"dataframe\">\n",
       "  <thead>\n",
       "    <tr style=\"text-align: right;\">\n",
       "      <th></th>\n",
       "      <th>MonthOfAccident</th>\n",
       "      <th>WeekOfMonthOfAccident</th>\n",
       "      <th>MonthClaimed</th>\n",
       "      <th>WeekOfMonthClaimed</th>\n",
       "      <th>AgeOfPolicyHolder</th>\n",
       "      <th>RepNumber</th>\n",
       "      <th>Deductible</th>\n",
       "      <th>DriverRating</th>\n",
       "      <th>PoliceReportFiled</th>\n",
       "      <th>WitnessPresent</th>\n",
       "      <th>Year</th>\n",
       "      <th>DayOfWeekOfAccident</th>\n",
       "      <th>Make</th>\n",
       "      <th>AccidentArea</th>\n",
       "      <th>DayOfWeekClaimed</th>\n",
       "      <th>Sex</th>\n",
       "      <th>MaritalStatus</th>\n",
       "      <th>Fault</th>\n",
       "      <th>PolicyType</th>\n",
       "      <th>VehicleCategory</th>\n",
       "      <th>VehiclePriceRange</th>\n",
       "      <th>Days_Policy_Accident</th>\n",
       "      <th>Days_Policy_Claim</th>\n",
       "      <th>PastNumberOfClaims</th>\n",
       "      <th>AgeOfVehicle</th>\n",
       "      <th>AgeRangeOfPolicyHolder</th>\n",
       "      <th>AgentType</th>\n",
       "      <th>NumberOfSuppliments</th>\n",
       "      <th>AddressChange_Claim</th>\n",
       "      <th>NumberOfCars</th>\n",
       "      <th>BasePolicy</th>\n",
       "      <th>FraudFound_P</th>\n",
       "    </tr>\n",
       "  </thead>\n",
       "  <tbody>\n",
       "    <tr>\n",
       "      <th>0</th>\n",
       "      <td>-0.975087</td>\n",
       "      <td>-0.624565</td>\n",
       "      <td>-0.965759</td>\n",
       "      <td>0.238109</td>\n",
       "      <td>-1.857752</td>\n",
       "      <td>1.422429</td>\n",
       "      <td>-0.175084</td>\n",
       "      <td>0.451735</td>\n",
       "      <td>-0.169850</td>\n",
       "      <td>-0.078785</td>\n",
       "      <td>0.168792</td>\n",
       "      <td>2.0</td>\n",
       "      <td>6.0</td>\n",
       "      <td>1.0</td>\n",
       "      <td>4.0</td>\n",
       "      <td>1.0</td>\n",
       "      <td>0.0</td>\n",
       "      <td>0.0</td>\n",
       "      <td>1.0</td>\n",
       "      <td>0.0</td>\n",
       "      <td>5.0</td>\n",
       "      <td>4.0</td>\n",
       "      <td>2.0</td>\n",
       "      <td>2.0</td>\n",
       "      <td>0.0</td>\n",
       "      <td>0.0</td>\n",
       "      <td>0.0</td>\n",
       "      <td>0.0</td>\n",
       "      <td>0.0</td>\n",
       "      <td>0.0</td>\n",
       "      <td>1.0</td>\n",
       "      <td>0</td>\n",
       "    </tr>\n",
       "    <tr>\n",
       "      <th>1</th>\n",
       "      <td>-0.112592</td>\n",
       "      <td>-0.624565</td>\n",
       "      <td>-0.100716</td>\n",
       "      <td>-0.555514</td>\n",
       "      <td>1.233954</td>\n",
       "      <td>0.111990</td>\n",
       "      <td>-0.175084</td>\n",
       "      <td>0.451735</td>\n",
       "      <td>-0.169850</td>\n",
       "      <td>-0.078785</td>\n",
       "      <td>1.414241</td>\n",
       "      <td>6.0</td>\n",
       "      <td>5.0</td>\n",
       "      <td>1.0</td>\n",
       "      <td>6.0</td>\n",
       "      <td>1.0</td>\n",
       "      <td>1.0</td>\n",
       "      <td>0.0</td>\n",
       "      <td>6.0</td>\n",
       "      <td>2.0</td>\n",
       "      <td>5.0</td>\n",
       "      <td>4.0</td>\n",
       "      <td>2.0</td>\n",
       "      <td>1.0</td>\n",
       "      <td>6.0</td>\n",
       "      <td>6.0</td>\n",
       "      <td>0.0</td>\n",
       "      <td>3.0</td>\n",
       "      <td>0.0</td>\n",
       "      <td>0.0</td>\n",
       "      <td>0.0</td>\n",
       "      <td>0</td>\n",
       "    </tr>\n",
       "    <tr>\n",
       "      <th>2</th>\n",
       "      <td>0.174907</td>\n",
       "      <td>-0.624565</td>\n",
       "      <td>0.187632</td>\n",
       "      <td>1.825356</td>\n",
       "      <td>1.478036</td>\n",
       "      <td>1.204023</td>\n",
       "      <td>-0.175084</td>\n",
       "      <td>1.344608</td>\n",
       "      <td>-0.169850</td>\n",
       "      <td>-0.078785</td>\n",
       "      <td>-1.076658</td>\n",
       "      <td>2.0</td>\n",
       "      <td>13.0</td>\n",
       "      <td>1.0</td>\n",
       "      <td>6.0</td>\n",
       "      <td>1.0</td>\n",
       "      <td>1.0</td>\n",
       "      <td>0.0</td>\n",
       "      <td>2.0</td>\n",
       "      <td>1.0</td>\n",
       "      <td>1.0</td>\n",
       "      <td>4.0</td>\n",
       "      <td>2.0</td>\n",
       "      <td>1.0</td>\n",
       "      <td>7.0</td>\n",
       "      <td>7.0</td>\n",
       "      <td>0.0</td>\n",
       "      <td>1.0</td>\n",
       "      <td>0.0</td>\n",
       "      <td>0.0</td>\n",
       "      <td>2.0</td>\n",
       "      <td>0</td>\n",
       "    </tr>\n",
       "    <tr>\n",
       "      <th>3</th>\n",
       "      <td>0.174907</td>\n",
       "      <td>0.929983</td>\n",
       "      <td>0.187632</td>\n",
       "      <td>1.031733</td>\n",
       "      <td>0.257626</td>\n",
       "      <td>0.330396</td>\n",
       "      <td>-0.175084</td>\n",
       "      <td>-0.441137</td>\n",
       "      <td>5.887558</td>\n",
       "      <td>-0.078785</td>\n",
       "      <td>1.414241</td>\n",
       "      <td>6.0</td>\n",
       "      <td>13.0</td>\n",
       "      <td>1.0</td>\n",
       "      <td>2.0</td>\n",
       "      <td>0.0</td>\n",
       "      <td>0.0</td>\n",
       "      <td>1.0</td>\n",
       "      <td>1.0</td>\n",
       "      <td>0.0</td>\n",
       "      <td>1.0</td>\n",
       "      <td>2.0</td>\n",
       "      <td>0.0</td>\n",
       "      <td>1.0</td>\n",
       "      <td>6.0</td>\n",
       "      <td>5.0</td>\n",
       "      <td>0.0</td>\n",
       "      <td>0.0</td>\n",
       "      <td>0.0</td>\n",
       "      <td>0.0</td>\n",
       "      <td>1.0</td>\n",
       "      <td>0</td>\n",
       "    </tr>\n",
       "    <tr>\n",
       "      <th>4</th>\n",
       "      <td>-0.112592</td>\n",
       "      <td>-0.624565</td>\n",
       "      <td>-0.100716</td>\n",
       "      <td>0.238109</td>\n",
       "      <td>-0.555981</td>\n",
       "      <td>-1.198450</td>\n",
       "      <td>-0.175084</td>\n",
       "      <td>-1.334009</td>\n",
       "      <td>-0.169850</td>\n",
       "      <td>-0.078785</td>\n",
       "      <td>1.414241</td>\n",
       "      <td>6.0</td>\n",
       "      <td>2.0</td>\n",
       "      <td>1.0</td>\n",
       "      <td>4.0</td>\n",
       "      <td>1.0</td>\n",
       "      <td>1.0</td>\n",
       "      <td>0.0</td>\n",
       "      <td>1.0</td>\n",
       "      <td>0.0</td>\n",
       "      <td>5.0</td>\n",
       "      <td>4.0</td>\n",
       "      <td>2.0</td>\n",
       "      <td>3.0</td>\n",
       "      <td>3.0</td>\n",
       "      <td>4.0</td>\n",
       "      <td>0.0</td>\n",
       "      <td>3.0</td>\n",
       "      <td>0.0</td>\n",
       "      <td>0.0</td>\n",
       "      <td>1.0</td>\n",
       "      <td>0</td>\n",
       "    </tr>\n",
       "    <tr>\n",
       "      <th>5</th>\n",
       "      <td>-1.550084</td>\n",
       "      <td>0.152709</td>\n",
       "      <td>-1.542454</td>\n",
       "      <td>1.031733</td>\n",
       "      <td>0.420347</td>\n",
       "      <td>1.422429</td>\n",
       "      <td>-0.175084</td>\n",
       "      <td>-1.334009</td>\n",
       "      <td>-0.169850</td>\n",
       "      <td>-0.078785</td>\n",
       "      <td>0.168792</td>\n",
       "      <td>5.0</td>\n",
       "      <td>13.0</td>\n",
       "      <td>1.0</td>\n",
       "      <td>4.0</td>\n",
       "      <td>1.0</td>\n",
       "      <td>1.0</td>\n",
       "      <td>0.0</td>\n",
       "      <td>2.0</td>\n",
       "      <td>1.0</td>\n",
       "      <td>1.0</td>\n",
       "      <td>4.0</td>\n",
       "      <td>2.0</td>\n",
       "      <td>2.0</td>\n",
       "      <td>6.0</td>\n",
       "      <td>5.0</td>\n",
       "      <td>0.0</td>\n",
       "      <td>2.0</td>\n",
       "      <td>0.0</td>\n",
       "      <td>0.0</td>\n",
       "      <td>2.0</td>\n",
       "      <td>0</td>\n",
       "    </tr>\n",
       "    <tr>\n",
       "      <th>6</th>\n",
       "      <td>-1.262586</td>\n",
       "      <td>-1.401840</td>\n",
       "      <td>-1.254106</td>\n",
       "      <td>-0.555514</td>\n",
       "      <td>1.396675</td>\n",
       "      <td>1.204023</td>\n",
       "      <td>-0.175084</td>\n",
       "      <td>-0.441137</td>\n",
       "      <td>-0.169850</td>\n",
       "      <td>-0.078785</td>\n",
       "      <td>0.168792</td>\n",
       "      <td>7.0</td>\n",
       "      <td>13.0</td>\n",
       "      <td>1.0</td>\n",
       "      <td>2.0</td>\n",
       "      <td>1.0</td>\n",
       "      <td>0.0</td>\n",
       "      <td>1.0</td>\n",
       "      <td>0.0</td>\n",
       "      <td>0.0</td>\n",
       "      <td>0.0</td>\n",
       "      <td>4.0</td>\n",
       "      <td>2.0</td>\n",
       "      <td>0.0</td>\n",
       "      <td>7.0</td>\n",
       "      <td>7.0</td>\n",
       "      <td>0.0</td>\n",
       "      <td>3.0</td>\n",
       "      <td>0.0</td>\n",
       "      <td>0.0</td>\n",
       "      <td>0.0</td>\n",
       "      <td>0</td>\n",
       "    </tr>\n",
       "    <tr>\n",
       "      <th>7</th>\n",
       "      <td>1.612399</td>\n",
       "      <td>-1.401840</td>\n",
       "      <td>1.629371</td>\n",
       "      <td>0.238109</td>\n",
       "      <td>1.722118</td>\n",
       "      <td>-1.635263</td>\n",
       "      <td>-0.175084</td>\n",
       "      <td>0.451735</td>\n",
       "      <td>-0.169850</td>\n",
       "      <td>-0.078785</td>\n",
       "      <td>0.168792</td>\n",
       "      <td>7.0</td>\n",
       "      <td>17.0</td>\n",
       "      <td>1.0</td>\n",
       "      <td>4.0</td>\n",
       "      <td>1.0</td>\n",
       "      <td>1.0</td>\n",
       "      <td>0.0</td>\n",
       "      <td>1.0</td>\n",
       "      <td>0.0</td>\n",
       "      <td>1.0</td>\n",
       "      <td>4.0</td>\n",
       "      <td>2.0</td>\n",
       "      <td>1.0</td>\n",
       "      <td>7.0</td>\n",
       "      <td>7.0</td>\n",
       "      <td>0.0</td>\n",
       "      <td>0.0</td>\n",
       "      <td>0.0</td>\n",
       "      <td>2.0</td>\n",
       "      <td>1.0</td>\n",
       "      <td>0</td>\n",
       "    </tr>\n",
       "    <tr>\n",
       "      <th>8</th>\n",
       "      <td>-1.262586</td>\n",
       "      <td>0.929983</td>\n",
       "      <td>-0.965759</td>\n",
       "      <td>1.031733</td>\n",
       "      <td>2.861167</td>\n",
       "      <td>0.767209</td>\n",
       "      <td>-0.175084</td>\n",
       "      <td>1.344608</td>\n",
       "      <td>-0.169850</td>\n",
       "      <td>-0.078785</td>\n",
       "      <td>-1.076658</td>\n",
       "      <td>6.0</td>\n",
       "      <td>17.0</td>\n",
       "      <td>1.0</td>\n",
       "      <td>3.0</td>\n",
       "      <td>1.0</td>\n",
       "      <td>1.0</td>\n",
       "      <td>0.0</td>\n",
       "      <td>0.0</td>\n",
       "      <td>0.0</td>\n",
       "      <td>0.0</td>\n",
       "      <td>4.0</td>\n",
       "      <td>2.0</td>\n",
       "      <td>1.0</td>\n",
       "      <td>7.0</td>\n",
       "      <td>8.0</td>\n",
       "      <td>0.0</td>\n",
       "      <td>2.0</td>\n",
       "      <td>4.0</td>\n",
       "      <td>1.0</td>\n",
       "      <td>0.0</td>\n",
       "      <td>0</td>\n",
       "    </tr>\n",
       "    <tr>\n",
       "      <th>9</th>\n",
       "      <td>-0.687589</td>\n",
       "      <td>-0.624565</td>\n",
       "      <td>-0.677411</td>\n",
       "      <td>0.238109</td>\n",
       "      <td>1.233954</td>\n",
       "      <td>0.330396</td>\n",
       "      <td>-0.175084</td>\n",
       "      <td>-0.441137</td>\n",
       "      <td>-0.169850</td>\n",
       "      <td>-0.078785</td>\n",
       "      <td>-1.076658</td>\n",
       "      <td>3.0</td>\n",
       "      <td>0.0</td>\n",
       "      <td>0.0</td>\n",
       "      <td>4.0</td>\n",
       "      <td>1.0</td>\n",
       "      <td>1.0</td>\n",
       "      <td>0.0</td>\n",
       "      <td>1.0</td>\n",
       "      <td>0.0</td>\n",
       "      <td>2.0</td>\n",
       "      <td>4.0</td>\n",
       "      <td>2.0</td>\n",
       "      <td>2.0</td>\n",
       "      <td>7.0</td>\n",
       "      <td>6.0</td>\n",
       "      <td>0.0</td>\n",
       "      <td>0.0</td>\n",
       "      <td>0.0</td>\n",
       "      <td>0.0</td>\n",
       "      <td>1.0</td>\n",
       "      <td>1</td>\n",
       "    </tr>\n",
       "  </tbody>\n",
       "</table>\n",
       "</div>"
      ],
      "text/plain": [
       "   MonthOfAccident  WeekOfMonthOfAccident  MonthClaimed  WeekOfMonthClaimed  \\\n",
       "0        -0.975087              -0.624565     -0.965759            0.238109   \n",
       "1        -0.112592              -0.624565     -0.100716           -0.555514   \n",
       "2         0.174907              -0.624565      0.187632            1.825356   \n",
       "3         0.174907               0.929983      0.187632            1.031733   \n",
       "4        -0.112592              -0.624565     -0.100716            0.238109   \n",
       "5        -1.550084               0.152709     -1.542454            1.031733   \n",
       "6        -1.262586              -1.401840     -1.254106           -0.555514   \n",
       "7         1.612399              -1.401840      1.629371            0.238109   \n",
       "8        -1.262586               0.929983     -0.965759            1.031733   \n",
       "9        -0.687589              -0.624565     -0.677411            0.238109   \n",
       "\n",
       "   AgeOfPolicyHolder  RepNumber  Deductible  DriverRating  PoliceReportFiled  \\\n",
       "0          -1.857752   1.422429   -0.175084      0.451735          -0.169850   \n",
       "1           1.233954   0.111990   -0.175084      0.451735          -0.169850   \n",
       "2           1.478036   1.204023   -0.175084      1.344608          -0.169850   \n",
       "3           0.257626   0.330396   -0.175084     -0.441137           5.887558   \n",
       "4          -0.555981  -1.198450   -0.175084     -1.334009          -0.169850   \n",
       "5           0.420347   1.422429   -0.175084     -1.334009          -0.169850   \n",
       "6           1.396675   1.204023   -0.175084     -0.441137          -0.169850   \n",
       "7           1.722118  -1.635263   -0.175084      0.451735          -0.169850   \n",
       "8           2.861167   0.767209   -0.175084      1.344608          -0.169850   \n",
       "9           1.233954   0.330396   -0.175084     -0.441137          -0.169850   \n",
       "\n",
       "   WitnessPresent      Year  DayOfWeekOfAccident  Make  AccidentArea  \\\n",
       "0       -0.078785  0.168792                  2.0   6.0           1.0   \n",
       "1       -0.078785  1.414241                  6.0   5.0           1.0   \n",
       "2       -0.078785 -1.076658                  2.0  13.0           1.0   \n",
       "3       -0.078785  1.414241                  6.0  13.0           1.0   \n",
       "4       -0.078785  1.414241                  6.0   2.0           1.0   \n",
       "5       -0.078785  0.168792                  5.0  13.0           1.0   \n",
       "6       -0.078785  0.168792                  7.0  13.0           1.0   \n",
       "7       -0.078785  0.168792                  7.0  17.0           1.0   \n",
       "8       -0.078785 -1.076658                  6.0  17.0           1.0   \n",
       "9       -0.078785 -1.076658                  3.0   0.0           0.0   \n",
       "\n",
       "   DayOfWeekClaimed  Sex  MaritalStatus  Fault  PolicyType  VehicleCategory  \\\n",
       "0               4.0  1.0            0.0    0.0         1.0              0.0   \n",
       "1               6.0  1.0            1.0    0.0         6.0              2.0   \n",
       "2               6.0  1.0            1.0    0.0         2.0              1.0   \n",
       "3               2.0  0.0            0.0    1.0         1.0              0.0   \n",
       "4               4.0  1.0            1.0    0.0         1.0              0.0   \n",
       "5               4.0  1.0            1.0    0.0         2.0              1.0   \n",
       "6               2.0  1.0            0.0    1.0         0.0              0.0   \n",
       "7               4.0  1.0            1.0    0.0         1.0              0.0   \n",
       "8               3.0  1.0            1.0    0.0         0.0              0.0   \n",
       "9               4.0  1.0            1.0    0.0         1.0              0.0   \n",
       "\n",
       "   VehiclePriceRange  Days_Policy_Accident  Days_Policy_Claim  \\\n",
       "0                5.0                   4.0                2.0   \n",
       "1                5.0                   4.0                2.0   \n",
       "2                1.0                   4.0                2.0   \n",
       "3                1.0                   2.0                0.0   \n",
       "4                5.0                   4.0                2.0   \n",
       "5                1.0                   4.0                2.0   \n",
       "6                0.0                   4.0                2.0   \n",
       "7                1.0                   4.0                2.0   \n",
       "8                0.0                   4.0                2.0   \n",
       "9                2.0                   4.0                2.0   \n",
       "\n",
       "   PastNumberOfClaims  AgeOfVehicle  AgeRangeOfPolicyHolder  AgentType  \\\n",
       "0                 2.0           0.0                     0.0        0.0   \n",
       "1                 1.0           6.0                     6.0        0.0   \n",
       "2                 1.0           7.0                     7.0        0.0   \n",
       "3                 1.0           6.0                     5.0        0.0   \n",
       "4                 3.0           3.0                     4.0        0.0   \n",
       "5                 2.0           6.0                     5.0        0.0   \n",
       "6                 0.0           7.0                     7.0        0.0   \n",
       "7                 1.0           7.0                     7.0        0.0   \n",
       "8                 1.0           7.0                     8.0        0.0   \n",
       "9                 2.0           7.0                     6.0        0.0   \n",
       "\n",
       "   NumberOfSuppliments  AddressChange_Claim  NumberOfCars  BasePolicy  \\\n",
       "0                  0.0                  0.0           0.0         1.0   \n",
       "1                  3.0                  0.0           0.0         0.0   \n",
       "2                  1.0                  0.0           0.0         2.0   \n",
       "3                  0.0                  0.0           0.0         1.0   \n",
       "4                  3.0                  0.0           0.0         1.0   \n",
       "5                  2.0                  0.0           0.0         2.0   \n",
       "6                  3.0                  0.0           0.0         0.0   \n",
       "7                  0.0                  0.0           2.0         1.0   \n",
       "8                  2.0                  4.0           1.0         0.0   \n",
       "9                  0.0                  0.0           0.0         1.0   \n",
       "\n",
       "   FraudFound_P  \n",
       "0             0  \n",
       "1             0  \n",
       "2             0  \n",
       "3             0  \n",
       "4             0  \n",
       "5             0  \n",
       "6             0  \n",
       "7             0  \n",
       "8             0  \n",
       "9             1  "
      ]
     },
     "execution_count": 22,
     "metadata": {},
     "output_type": "execute_result"
    }
   ],
   "source": [
    "full_df = pd.concat([X.reset_index(drop=True),\n",
    "                     y.reset_index(drop=True)],\n",
    "                    axis=1)\n",
    "full_df.head(10)"
   ]
  },
  {
   "cell_type": "markdown",
   "id": "4628d343",
   "metadata": {},
   "source": [
    "## Modeling"
   ]
  },
  {
   "cell_type": "markdown",
   "id": "2deed75e",
   "metadata": {},
   "source": [
    "### Baseline Model - Dummy Classifier"
   ]
  },
  {
   "cell_type": "code",
   "execution_count": 26,
   "id": "264eeb5a",
   "metadata": {},
   "outputs": [
    {
     "name": "stderr",
     "output_type": "stream",
     "text": [
      "/Users/juliana/opt/anaconda3/envs/imblearn/lib/python3.7/site-packages/sklearn/dummy.py:132: FutureWarning: The default value of strategy will change from stratified to prior in 0.24.\n",
      "  \"stratified to prior in 0.24.\", FutureWarning)\n"
     ]
    },
    {
     "data": {
      "text/plain": [
       "DummyClassifier(constant=None, random_state=None, strategy='warn')"
      ]
     },
     "execution_count": 26,
     "metadata": {},
     "output_type": "execute_result"
    }
   ],
   "source": [
    "from sklearn.dummy import DummyClassifier\n",
    "\n",
    "clf_dummy = DummyClassifier()\n",
    "clf_dummy.fit(X_train_sm, y_train_sm)"
   ]
  },
  {
   "cell_type": "code",
   "execution_count": 27,
   "id": "e83c448f",
   "metadata": {},
   "outputs": [
    {
     "name": "stdout",
     "output_type": "stream",
     "text": [
      "Validation Result:\n",
      "\n",
      "accuracy score: 0.4854\n",
      "\n"
     ]
    },
    {
     "data": {
      "image/png": "[encoded data removed]",
      "text/plain": [
       "<Figure size 576x396 with 1 Axes>"
      ]
     },
     "metadata": {},
     "output_type": "display_data"
    },
    {
     "name": "stdout",
     "output_type": "stream",
     "text": [
      "roc auc score: 0.5167085226530405\n",
      "\n"
     ]
    },
    {
     "data": {
      "image/png": "[encoded data removed]",
      "text/plain": [
       "<Figure size 576x396 with 1 Axes>"
      ]
     },
     "metadata": {},
     "output_type": "display_data"
    },
    {
     "name": "stdout",
     "output_type": "stream",
     "text": [
      "Classification Report: \n",
      "               precision    recall  f1-score   support\n",
      "\n",
      "           0       0.93      0.48      0.64      1514\n",
      "           1       0.05      0.44      0.09        91\n",
      "\n",
      "    accuracy                           0.48      1605\n",
      "   macro avg       0.49      0.46      0.36      1605\n",
      "weighted avg       0.88      0.48      0.60      1605\n",
      "\n",
      "\n",
      "Confusion Matrix: \n",
      " [[737 777]\n",
      " [ 53  38]]\n",
      "\n",
      "End of validation Result\n",
      "\n"
     ]
    },
    {
     "data": {
      "image/png": "[encoded data removed]",
      "text/plain": [
       "<Figure size 576x396 with 2 Axes>"
      ]
     },
     "metadata": {},
     "output_type": "display_data"
    }
   ],
   "source": [
    "clf_score(clf_dummy, X_train_sm, y_train_sm, X_val, y_val, train=False)"
   ]
  },
  {
   "cell_type": "markdown",
   "id": "b32fd4b5",
   "metadata": {},
   "source": [
    "### Random Forest"
   ]
  },
  {
   "cell_type": "code",
   "execution_count": 44,
   "id": "09ce9379",
   "metadata": {},
   "outputs": [
    {
     "data": {
      "text/plain": [
       "RandomForestClassifier(bootstrap=True, ccp_alpha=0.0, class_weight=None,\n",
       "                       criterion='gini', max_depth=None, max_features='auto',\n",
       "                       max_leaf_nodes=None, max_samples=None,\n",
       "                       min_impurity_decrease=0.0, min_impurity_split=None,\n",
       "                       min_samples_leaf=1, min_samples_split=2,\n",
       "                       min_weight_fraction_leaf=0.0, n_estimators=40,\n",
       "                       n_jobs=None, oob_score=False, random_state=0, verbose=0,\n",
       "                       warm_start=False)"
      ]
     },
     "execution_count": 44,
     "metadata": {},
     "output_type": "execute_result"
    }
   ],
   "source": [
    "from sklearn.ensemble import RandomForestClassifier\n",
    "clf_rf = RandomForestClassifier(n_estimators=40, random_state=0)\n",
    "clf_rf.fit(X_train_sm, y_train_sm)\n"
   ]
  },
  {
   "cell_type": "code",
   "execution_count": 45,
   "id": "e17abd21",
   "metadata": {},
   "outputs": [
    {
     "name": "stdout",
     "output_type": "stream",
     "text": [
      "Validation Result:\n",
      "\n",
      "accuracy score: 0.9408\n",
      "\n"
     ]
    },
    {
     "data": {
      "image/png": "[encoded data removed]",
      "text/plain": [
       "<Figure size 576x396 with 1 Axes>"
      ]
     },
     "metadata": {},
     "output_type": "display_data"
    },
    {
     "name": "stdout",
     "output_type": "stream",
     "text": [
      "roc auc score: 0.5090075050444931\n",
      "\n"
     ]
    },
    {
     "data": {
      "image/png": "[encoded data removed]",
      "text/plain": [
       "<Figure size 576x396 with 1 Axes>"
      ]
     },
     "metadata": {},
     "output_type": "display_data"
    },
    {
     "name": "stdout",
     "output_type": "stream",
     "text": [
      "Classification Report: \n",
      "               precision    recall  f1-score   support\n",
      "\n",
      "           0       0.94      1.00      0.97      1514\n",
      "           1       0.25      0.02      0.04        91\n",
      "\n",
      "    accuracy                           0.94      1605\n",
      "   macro avg       0.60      0.51      0.50      1605\n",
      "weighted avg       0.90      0.94      0.92      1605\n",
      "\n",
      "\n",
      "Confusion Matrix: \n",
      " [[1508    6]\n",
      " [  89    2]]\n",
      "\n",
      "End of validation Result\n",
      "\n"
     ]
    },
    {
     "data": {
      "image/png": "[encoded data removed]",
      "text/plain": [
       "<Figure size 576x396 with 2 Axes>"
      ]
     },
     "metadata": {},
     "output_type": "display_data"
    }
   ],
   "source": [
    "clf_score(clf_rf, X_train_sm, y_train_sm, X_val, y_val, train=False)"
   ]
  },
  {
   "cell_type": "markdown",
   "id": "dcee03c4",
   "metadata": {},
   "source": [
    "#### Results\n",
    "Confusion Matrix\n",
    "* True Negative: # of obs that are predicted to be Non-fraud, and they are actually Non-fraud\n",
    "* False Positive: # of obs that are predicted to be fraud, but they are actually Non-fraud\n",
    "* False Negative: # of obs that are predicted to be Non-fraud, but they are actually fraud\n",
    "* True Positive: # of obs that are predicted to be fraud, and they are actually fraud\n",
    "* Conclusion: need a model with low FN rate\n",
    "Precision, recall, f1-score\n",
    "* Presicion: If the model identifies a people as fraud, the prob that is right is 25%\n",
    "* Recall: Among fraud people, the prob that model identify them as fraud is 2%\n",
    "* Conclusion: pretty bad model in terms of precision and recall for fraud detection"
   ]
  },
  {
   "cell_type": "markdown",
   "id": "881507af",
   "metadata": {},
   "source": [
    "####  Hyperparameter tuning with Grid Search"
   ]
  },
  {
   "cell_type": "code",
   "execution_count": 41,
   "id": "b3d5684a",
   "metadata": {
    "scrolled": true
   },
   "outputs": [
    {
     "name": "stdout",
     "output_type": "stream",
     "text": [
      "{'max_depth': 25, 'max_features': 'log2', 'min_samples_leaf': 1, 'min_samples_split': 2, 'n_estimators': 300, 'random_state': 0}\n"
     ]
    }
   ],
   "source": [
    "clf_rf_grid = ensemble.RandomForestClassifier()\n",
    "params = {\n",
    "    \"max_features\": [0.4, 'auto','log2'],\n",
    "    \"n_estimators\": [100,200,300],\n",
    "    \"min_samples_leaf\": [1, 2, 5, 10],\n",
    "    \"min_samples_split\":[2,10,25,50],\n",
    "    \"random_state\": [0],\n",
    "    \"max_depth\":[5,10,15,25]\n",
    "}\n",
    "\n",
    "cv = model_selection.GridSearchCV(clf_rf_grid, params,\n",
    "                                  n_jobs=-1).fit(X_train_sm, y_train_sm)\n",
    "print(cv.best_params_)"
   ]
  },
  {
   "cell_type": "code",
   "execution_count": 42,
   "id": "ff4a46dc",
   "metadata": {},
   "outputs": [
    {
     "data": {
      "text/plain": [
       "0.9314641744548287"
      ]
     },
     "execution_count": 42,
     "metadata": {},
     "output_type": "execute_result"
    }
   ],
   "source": [
    "clf_rf_best = ensemble.RandomForestClassifier(\n",
    "    **{\n",
    "        \"max_features\": 'log2',\n",
    "        \"n_estimators\": 300,\n",
    "        \"min_samples_leaf\": 1,\n",
    "        \"min_samples_split\":2,\n",
    "        \"random_state\": 0,\n",
    "        \"max_depth\":25\n",
    "    })\n",
    "clf_rf_best.fit(X_train_sm, y_train_sm)\n",
    "clf_rf_best.score(X_test, y_test)"
   ]
  },
  {
   "cell_type": "code",
   "execution_count": 43,
   "id": "791f219e",
   "metadata": {},
   "outputs": [
    {
     "name": "stdout",
     "output_type": "stream",
     "text": [
      "Validation Result:\n",
      "\n",
      "accuracy score: 0.9315\n",
      "\n"
     ]
    },
    {
     "data": {
      "image/png": "[encoded data removed]",
      "text/plain": [
       "<Figure size 576x396 with 1 Axes>"
      ]
     },
     "metadata": {},
     "output_type": "display_data"
    },
    {
     "name": "stdout",
     "output_type": "stream",
     "text": [
      "roc auc score: 0.5030492026130629\n",
      "\n"
     ]
    },
    {
     "data": {
      "image/png": "[encoded data removed]",
      "text/plain": [
       "<Figure size 576x396 with 1 Axes>"
      ]
     },
     "metadata": {},
     "output_type": "display_data"
    },
    {
     "name": "stdout",
     "output_type": "stream",
     "text": [
      "Classification Report: \n",
      "               precision    recall  f1-score   support\n",
      "\n",
      "           0       0.93      1.00      0.96      1499\n",
      "           1       0.17      0.01      0.02       106\n",
      "\n",
      "    accuracy                           0.93      1605\n",
      "   macro avg       0.55      0.50      0.49      1605\n",
      "weighted avg       0.88      0.93      0.90      1605\n",
      "\n",
      "\n",
      "Confusion Matrix: \n",
      " [[1494    5]\n",
      " [ 105    1]]\n",
      "\n",
      "End of validation Result\n",
      "\n"
     ]
    },
    {
     "data": {
      "image/png": "[encoded data removed]",
      "text/plain": [
       "<Figure size 576x396 with 2 Axes>"
      ]
     },
     "metadata": {},
     "output_type": "display_data"
    }
   ],
   "source": [
    "clf_score(clf_rf_best, X_train_sm, y_train_sm, X_test, y_test, train=False)"
   ]
  },
  {
   "cell_type": "code",
   "execution_count": null,
   "id": "4e98bcec",
   "metadata": {},
   "outputs": [],
   "source": []
  },
  {
   "cell_type": "markdown",
   "id": "697f698f",
   "metadata": {},
   "source": [
    "#### Evaluation on test set\n",
    "##### Class prediction error"
   ]
  },
  {
   "cell_type": "code",
   "execution_count": null,
   "id": "67dabb03",
   "metadata": {},
   "outputs": [],
   "source": [
    "from yellowbrick.classifier import ClassPredictionError\n",
    "\n",
    "classes = [\"0\", \"1\"]\n",
    "\n",
    "visualizer = ClassPredictionError(\n",
    "    clf_rf, classes=classes, is_fitted=True\n",
    ")\n",
    "\n",
    "# Fit the training data to the visualizer\n",
    "visualizer.fit(X_train, y_train)\n",
    "\n",
    "# Evaluate the model on the test data\n",
    "visualizer.score(X_test, y_test)\n",
    "\n",
    "# Draw visualization\n",
    "visualizer.show()"
   ]
  },
  {
   "cell_type": "markdown",
   "id": "1d2b91b2",
   "metadata": {},
   "source": [
    "##### Classification Report"
   ]
  },
  {
   "cell_type": "code",
   "execution_count": null,
   "id": "3ba583b6",
   "metadata": {},
   "outputs": [],
   "source": [
    "from yellowbrick.classifier import ClassificationReport\n",
    "\n",
    "visualizer = ClassificationReport(\n",
    "    clf_rf, classes=classes, support=True, is_fitted=True\n",
    ")\n",
    "\n",
    "visualizer.fit(X_train, y_train)        # Fit the visualizer and the model\n",
    "visualizer.score(X_test, y_test)        # Evaluate the model on the test data\n",
    "visualizer.show()                       # Finalize and show the figure"
   ]
  },
  {
   "cell_type": "markdown",
   "id": "e7b1d847",
   "metadata": {},
   "source": [
    "##### Confusion_matrix"
   ]
  },
  {
   "cell_type": "code",
   "execution_count": null,
   "id": "1bd72994",
   "metadata": {},
   "outputs": [],
   "source": [
    "from yellowbrick.classifier import confusion_matrix\n",
    "\n",
    "# The ConfusionMatrix visualizer taxes a model\n",
    "cm = ConfusionMatrix(clf_rf, classes=[0,1], is_fitted=True)\n",
    "\n",
    "# Fit fits the passed model. This is unnecessary if you pass the visualizer a pre-fitted model\n",
    "cm.fit(X_train, y_train)\n",
    "\n",
    "# To create the ConfusionMatrix, we need some test data. Score runs predict() on the data\n",
    "# and then creates the confusion_matrix from scikit-learn.\n",
    "cm.score(X_test, y_test)\n",
    "\n",
    "# How did we do?\n",
    "cm.show()"
   ]
  },
  {
   "cell_type": "markdown",
   "id": "d65593d0",
   "metadata": {},
   "source": [
    "##### Feature importance"
   ]
  },
  {
   "cell_type": "code",
   "execution_count": null,
   "id": "31805046",
   "metadata": {},
   "outputs": [],
   "source": [
    "from yellowbrick.model_selection import FeatureImportances\n",
    "\n",
    "fig = plt.figure(figsize=(22, 26))\n",
    "viz = FeatureImportances(clf_rf, labels=df.columns)\n",
    "viz.fit(X_train_small, y_train_small)\n",
    "viz.poof()"
   ]
  },
  {
   "cell_type": "code",
   "execution_count": null,
   "id": "aac0fb70",
   "metadata": {},
   "outputs": [],
   "source": [
    "from yellowbrick.features import RFECV\n",
    "fig, ax = plt.subplots(figsize=(6, 4))\n",
    "rfe = RFECV(\n",
    "    ensemble.RandomForestClassifier(\n",
    "        n_estimators=100\n",
    "    ),\n",
    "    cv=5,\n",
    ")\n",
    "rfe.fit(X_train_small, y_train_small)\n",
    "rfe.rfe_estimator_.ranking_\n",
    "rfe.rfe_estimator_.n_features_\n",
    "rfe.rfe_estimator_.support_\n",
    "rfe.poof()"
   ]
  },
  {
   "cell_type": "markdown",
   "id": "ccf08d18",
   "metadata": {},
   "source": [
    "#### Learning Curve"
   ]
  },
  {
   "cell_type": "code",
   "execution_count": null,
   "id": "c79a0466",
   "metadata": {},
   "outputs": [],
   "source": [
    "import numpy as np\n",
    "fig, ax = plt.subplots(figsize=(6, 4))\n",
    "cv = StratifiedKFold(12)\n",
    "sizes = np.linspace(0.3, 1.0, 10)\n",
    "lc_viz = LearningCurve(\n",
    "    clf_rf,\n",
    "    cv=cv,\n",
    "    train_sizes=sizes,\n",
    "    scoring=\"f1_weighted\",\n",
    "    n_jobs=4,\n",
    "    ax=ax,\n",
    ")\n",
    "lc_viz.fit(X_train_small, y_train_small)\n",
    "lc_viz.poof()"
   ]
  },
  {
   "cell_type": "markdown",
   "id": "af0e3268",
   "metadata": {},
   "source": [
    "### Adaboost"
   ]
  },
  {
   "cell_type": "code",
   "execution_count": 35,
   "id": "004c710b",
   "metadata": {},
   "outputs": [
    {
     "data": {
      "text/plain": [
       "AdaBoostClassifier(algorithm='SAMME.R', base_estimator=None, learning_rate=1.0,\n",
       "                   n_estimators=100, random_state=0)"
      ]
     },
     "execution_count": 35,
     "metadata": {},
     "output_type": "execute_result"
    }
   ],
   "source": [
    "from sklearn.ensemble import AdaBoostClassifier\n",
    "clf_ada_boost = AdaBoostClassifier(n_estimators=100, random_state=0)\n",
    "clf_ada_boost.fit(X_train_sm, y_train_sm)"
   ]
  },
  {
   "cell_type": "code",
   "execution_count": 36,
   "id": "3b3a4aae",
   "metadata": {},
   "outputs": [
    {
     "name": "stdout",
     "output_type": "stream",
     "text": [
      "Validation Result:\n",
      "\n",
      "accuracy score: 0.9315\n",
      "\n"
     ]
    },
    {
     "data": {
      "image/png": "[encoded data removed]",
      "text/plain": [
       "<Figure size 576x396 with 1 Axes>"
      ]
     },
     "metadata": {},
     "output_type": "display_data"
    },
    {
     "name": "stdout",
     "output_type": "stream",
     "text": [
      "roc auc score: 0.5247107581982087\n",
      "\n"
     ]
    },
    {
     "data": {
      "image/png": "[encoded data removed]",
      "text/plain": [
       "<Figure size 576x396 with 1 Axes>"
      ]
     },
     "metadata": {},
     "output_type": "display_data"
    },
    {
     "name": "stdout",
     "output_type": "stream",
     "text": [
      "Classification Report: \n",
      "               precision    recall  f1-score   support\n",
      "\n",
      "           0       0.95      0.98      0.96      1514\n",
      "           1       0.19      0.07      0.10        91\n",
      "\n",
      "    accuracy                           0.93      1605\n",
      "   macro avg       0.57      0.52      0.53      1605\n",
      "weighted avg       0.90      0.93      0.92      1605\n",
      "\n",
      "\n",
      "Confusion Matrix: \n",
      " [[1489   25]\n",
      " [  85    6]]\n",
      "\n",
      "End of validation Result\n",
      "\n"
     ]
    },
    {
     "data": {
      "image/png": "[encoded data removed]",
      "text/plain": [
       "<Figure size 576x396 with 2 Axes>"
      ]
     },
     "metadata": {},
     "output_type": "display_data"
    }
   ],
   "source": [
    "clf_score(clf_ada_boost, X_train_sm, y_train_sm, X_val, y_val, train=False)"
   ]
  },
  {
   "cell_type": "markdown",
   "id": "7301a433",
   "metadata": {},
   "source": [
    "#### Results\n",
    "Confusion Matrix\n",
    "* True Negative: # of obs that are predicted to be Non-fraud, and they are actually Non-fraud\n",
    "* False Positive: # of obs that are predicted to be fraud, but they are actually Non-fraud\n",
    "* False Negative: # of obs that are predicted to be Non-fraud, but they are actually fraud\n",
    "* True Positive: # of obs that are predicted to be fraud, and they are actually fraud\n",
    "* Conclusion: need a model with low FN rate\n",
    "Precision, Recall, F1-score\n",
    "* Presicion: If the model identifies a people as fraud, the prob that is right is 19%\n",
    "* Recall: Among fraud people, the prob that model identify them as fraud is 7%\n",
    "* F1-score: increase to 10%\n",
    "* Conclusion: better model in terms of precision, recall and f1-score for fraud detection compared with random forest"
   ]
  },
  {
   "cell_type": "markdown",
   "id": "333c5021",
   "metadata": {},
   "source": [
    "#### Hyperparameter tuning for adaboost"
   ]
  },
  {
   "cell_type": "code",
   "execution_count": 37,
   "id": "3807329f",
   "metadata": {},
   "outputs": [
    {
     "name": "stdout",
     "output_type": "stream",
     "text": [
      "{'learning_rate': 0.5, 'n_estimators': 300}\n"
     ]
    }
   ],
   "source": [
    "params = {\n",
    "    \"n_estimators\": [100,200,300],\n",
    "    \"learning_rate\": [0.001, 0.01, 0.1, 0.2,0.5],\n",
    "}\n",
    "\n",
    "cv = model_selection.GridSearchCV(AdaBoostClassifier(random_state=0), \n",
    "                                  param_grid=params).fit(X_train_sm, y_train_sm)\n",
    "print(cv.best_params_)"
   ]
  },
  {
   "cell_type": "code",
   "execution_count": 38,
   "id": "4ea831c6",
   "metadata": {},
   "outputs": [
    {
     "data": {
      "text/plain": [
       "0.9289719626168225"
      ]
     },
     "execution_count": 38,
     "metadata": {},
     "output_type": "execute_result"
    }
   ],
   "source": [
    "clf_ada_boost_best = AdaBoostClassifier(n_estimators=300,learning_rate=0.5,random_state=0)\n",
    "clf_ada_boost_best.fit(X_train_sm, y_train_sm)\n",
    "clf_ada_boost_best.score(X_test, y_test)"
   ]
  },
  {
   "cell_type": "code",
   "execution_count": 40,
   "id": "17de55cf",
   "metadata": {},
   "outputs": [
    {
     "name": "stdout",
     "output_type": "stream",
     "text": [
      "Validation Result:\n",
      "\n",
      "accuracy score: 0.9290\n",
      "\n"
     ]
    },
    {
     "data": {
      "image/png": "[encoded data removed]",
      "text/plain": [
       "<Figure size 576x396 with 1 Axes>"
      ]
     },
     "metadata": {},
     "output_type": "display_data"
    },
    {
     "name": "stdout",
     "output_type": "stream",
     "text": [
      "roc auc score: 0.5148652560826715\n",
      "\n"
     ]
    },
    {
     "data": {
      "image/png": "[encoded data removed]",
      "text/plain": [
       "<Figure size 576x396 with 1 Axes>"
      ]
     },
     "metadata": {},
     "output_type": "display_data"
    },
    {
     "name": "stdout",
     "output_type": "stream",
     "text": [
      "Classification Report: \n",
      "               precision    recall  f1-score   support\n",
      "\n",
      "           0       0.94      0.99      0.96      1499\n",
      "           1       0.25      0.04      0.07       106\n",
      "\n",
      "    accuracy                           0.93      1605\n",
      "   macro avg       0.59      0.51      0.51      1605\n",
      "weighted avg       0.89      0.93      0.90      1605\n",
      "\n",
      "\n",
      "Confusion Matrix: \n",
      " [[1487   12]\n",
      " [ 102    4]]\n",
      "\n",
      "End of validation Result\n",
      "\n"
     ]
    },
    {
     "data": {
      "image/png": "[encoded data removed]",
      "text/plain": [
       "<Figure size 576x396 with 2 Axes>"
      ]
     },
     "metadata": {},
     "output_type": "display_data"
    }
   ],
   "source": [
    "clf_score(clf_ada_boost_best, X_train_sm, y_train_sm, X_test, y_test, train=False)"
   ]
  },
  {
   "cell_type": "markdown",
   "id": "94813478",
   "metadata": {},
   "source": [
    "#### Results\n",
    "Confusion Matrix\n",
    "* True Negative: # of obs that are predicted to be Non-fraud, and they are actually Non-fraud\n",
    "* False Positive: # of obs that are predicted to be fraud, but they are actually Non-fraud\n",
    "* False Negative: # of obs that are predicted to be Non-fraud, but they are actually fraud\n",
    "* True Positive: # of obs that are predicted to be fraud, and they are actually fraud\n",
    "* Conclusion: need a model with low FN rate\n",
    "Precision, Recall, F1-score\n",
    "* Presicion: If the model identifies a people as fraud, the prob that is right is 25%\n",
    "* Recall: Among fraud people, the prob that model identify them as fraud is 4%\n",
    "* F1-score: decrease to 7 %\n",
    "* Conclusion: Worse than adaboost base model in terms of recall"
   ]
  },
  {
   "cell_type": "markdown",
   "id": "0ab42726",
   "metadata": {},
   "source": [
    "#### Evaluation on test set\n",
    "##### Class prediction error"
   ]
  },
  {
   "cell_type": "code",
   "execution_count": null,
   "id": "abd3e751",
   "metadata": {},
   "outputs": [],
   "source": [
    "from yellowbrick.classifier import ClassPredictionError\n",
    "\n",
    "classes = [\"0\", \"1\"]\n",
    "\n",
    "visualizer = ClassPredictionError(\n",
    "    clf_rf, classes=classes, is_fitted=True\n",
    ")\n",
    "\n",
    "# Fit the training data to the visualizer\n",
    "visualizer.fit(X_train, y_train)\n",
    "\n",
    "# Evaluate the model on the test data\n",
    "visualizer.score(X_test, y_test)\n",
    "\n",
    "# Draw visualization\n",
    "visualizer.show()"
   ]
  },
  {
   "cell_type": "markdown",
   "id": "75c52671",
   "metadata": {},
   "source": [
    "##### Classification Report"
   ]
  },
  {
   "cell_type": "code",
   "execution_count": null,
   "id": "31c8c405",
   "metadata": {},
   "outputs": [],
   "source": [
    "from yellowbrick.classifier import ClassificationReport\n",
    "\n",
    "visualizer = ClassificationReport(\n",
    "    clf_rf, classes=classes, support=True, is_fitted=True\n",
    ")\n",
    "\n",
    "visualizer.fit(X_train, y_train)        # Fit the visualizer and the model\n",
    "visualizer.score(X_test, y_test)        # Evaluate the model on the test data\n",
    "visualizer.show()                       # Finalize and show the figure"
   ]
  },
  {
   "cell_type": "markdown",
   "id": "29691be0",
   "metadata": {},
   "source": [
    "##### Confusion_matrix"
   ]
  },
  {
   "cell_type": "code",
   "execution_count": null,
   "id": "e8c7bdb0",
   "metadata": {},
   "outputs": [],
   "source": [
    "from yellowbrick.classifier import confusion_matrix\n",
    "\n",
    "# The ConfusionMatrix visualizer taxes a model\n",
    "cm = ConfusionMatrix(clf_rf, classes=[0,1], is_fitted=True)\n",
    "\n",
    "# Fit fits the passed model. This is unnecessary if you pass the visualizer a pre-fitted model\n",
    "cm.fit(X_train, y_train)\n",
    "\n",
    "# To create the ConfusionMatrix, we need some test data. Score runs predict() on the data\n",
    "# and then creates the confusion_matrix from scikit-learn.\n",
    "cm.score(X_test, y_test)\n",
    "\n",
    "# How did we do?\n",
    "cm.show()"
   ]
  },
  {
   "cell_type": "markdown",
   "id": "53ee35f3",
   "metadata": {},
   "source": [
    "##### Feature importance"
   ]
  },
  {
   "cell_type": "code",
   "execution_count": null,
   "id": "0900dd84",
   "metadata": {},
   "outputs": [],
   "source": [
    "from yellowbrick.model_selection import FeatureImportances\n",
    "\n",
    "fig = plt.figure(figsize=(22, 26))\n",
    "viz = FeatureImportances(clf_rf, labels=df.columns)\n",
    "viz.fit(X_train_small, y_train_small)\n",
    "viz.poof()"
   ]
  },
  {
   "cell_type": "code",
   "execution_count": null,
   "id": "7671fc1b",
   "metadata": {},
   "outputs": [],
   "source": [
    "from yellowbrick.features import RFECV\n",
    "fig, ax = plt.subplots(figsize=(6, 4))\n",
    "rfe = RFECV(\n",
    "    ensemble.RandomForestClassifier(\n",
    "        n_estimators=100\n",
    "    ),\n",
    "    cv=5,\n",
    ")\n",
    "rfe.fit(X_train_small, y_train_small)\n",
    "rfe.rfe_estimator_.ranking_\n",
    "rfe.rfe_estimator_.n_features_\n",
    "rfe.rfe_estimator_.support_\n",
    "rfe.poof()"
   ]
  },
  {
   "cell_type": "code",
   "execution_count": null,
   "id": "70465528",
   "metadata": {},
   "outputs": [],
   "source": []
  },
  {
   "cell_type": "code",
   "execution_count": null,
   "id": "8fe02456",
   "metadata": {},
   "outputs": [],
   "source": []
  },
  {
   "cell_type": "code",
   "execution_count": null,
   "id": "c557a848",
   "metadata": {},
   "outputs": [],
   "source": []
  },
  {
   "cell_type": "code",
   "execution_count": null,
   "id": "d19621f3",
   "metadata": {},
   "outputs": [],
   "source": []
  }
 ],
 "metadata": {
  "kernelspec": {
   "display_name": "imblearn",
   "language": "python",
   "name": "imblearn"
  },
  "language_info": {
   "codemirror_mode": {
    "name": "ipython",
    "version": 3
   },
   "file_extension": ".py",
   "mimetype": "text/x-python",
   "name": "python",
   "nbconvert_exporter": "python",
   "pygments_lexer": "ipython3",
   "version": "3.7.11"
  },
  "toc": {
   "base_numbering": 1,
   "nav_menu": {},
   "number_sections": true,
   "sideBar": true,
   "skip_h1_title": false,
   "title_cell": "Table of Contents",
   "title_sidebar": "Contents",
   "toc_cell": false,
   "toc_position": {
    "height": "calc(100% - 180px)",
    "left": "10px",
    "top": "150px",
    "width": "234.188px"
   },
   "toc_section_display": true,
   "toc_window_display": true
  },
  "varInspector": {
   "cols": {
    "lenName": 16,
    "lenType": 16,
    "lenVar": 40
   },
   "kernels_config": {
    "python": {
     "delete_cmd_postfix": "",
     "delete_cmd_prefix": "del ",
     "library": "var_list.py",
     "varRefreshCmd": "print(var_dic_list())"
    },
    "r": {
     "delete_cmd_postfix": ") ",
     "delete_cmd_prefix": "rm(",
     "library": "var_list.r",
     "varRefreshCmd": "cat(var_dic_list()) "
    }
   },
   "types_to_exclude": [
    "module",
    "function",
    "builtin_function_or_method",
    "instance",
    "_Feature"
   ],
   "window_display": false
  }
 },
 "nbformat": 4,
 "nbformat_minor": 5
}
